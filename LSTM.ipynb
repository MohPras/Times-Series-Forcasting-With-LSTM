{
  "nbformat": 4,
  "nbformat_minor": 0,
  "metadata": {
    "colab": {
      "provenance": []
    },
    "kernelspec": {
      "name": "python3",
      "display_name": "Python 3"
    },
    "language_info": {
      "name": "python"
    }
  },
  "cells": [
    {
      "cell_type": "markdown",
      "source": [
        "# **Nama : M.Nurdin Prastya.H**\n",
        "\n",
        "# **NIM : 20507334047**"
      ],
      "metadata": {
        "id": "Qgh5AV0KHpHq"
      }
    },
    {
      "cell_type": "markdown",
      "source": [
        "# Times Series Forcasting Untuk Memprediksi Produksi Susu 12 Bulan Terahir Menggunakan peramalan deret waktu jaringan saraf LSTM (Long short term memory) dengan python.\n",
        "\n",
        "LSTM adalah varian dari RNN (jaringan saraf berulang) dan banyak digunakan untuk proyek deret waktu dalam peramalan dan prediksi masa depan. Dataset yang ada digunakan dalam latihan ini berasal dari github nachi-hebbar ( https://github.com/nachi-hebbar/Time-Series-Forecasting-LSTM/blob/main/monthly_milk_production.csv )."
      ],
      "metadata": {
        "id": "782q-2uJ2CvE"
      }
    },
    {
      "cell_type": "code",
      "execution_count": 1,
      "metadata": {
        "id": "pvsIGQpv1VR-"
      },
      "outputs": [],
      "source": [
        "# import library\n",
        "import pandas as pd\n",
        "from pandas import read_csv\n",
        "import numpy as np\n",
        "import matplotlib.pyplot as plt"
      ]
    },
    {
      "cell_type": "markdown",
      "source": [
        "# **PREPOCESING DATA**"
      ],
      "metadata": {
        "id": "UMbfYfgvBKW5"
      }
    },
    {
      "cell_type": "code",
      "source": [
        "# import dataset\n",
        "from google.colab import drive\n",
        "drive.mount(\"/content/drive\")"
      ],
      "metadata": {
        "colab": {
          "base_uri": "https://localhost:8080/"
        },
        "id": "V44-kbJNBTtP",
        "outputId": "4fbeb351-db6a-45fa-8474-c1ce95e0376e"
      },
      "execution_count": 2,
      "outputs": [
        {
          "output_type": "stream",
          "name": "stdout",
          "text": [
            "Mounted at /content/drive\n"
          ]
        }
      ]
    },
    {
      "cell_type": "code",
      "source": [
        "# read data\n",
        "df = read_csv('/content/drive/MyDrive/PROJEK KECERDASAN BUATAN/FORCASTING/02_FORCASTING WITH LSTM/monthly_milk_production.txt',header=0, index_col='Date', parse_dates= True )\n",
        "df.index.freq='MS'\n",
        "df.head()"
      ],
      "metadata": {
        "colab": {
          "base_uri": "https://localhost:8080/",
          "height": 238
        },
        "id": "V6AQrB9OB2XN",
        "outputId": "90f70075-3c9f-4aa6-9533-c5267ebf3417"
      },
      "execution_count": 3,
      "outputs": [
        {
          "output_type": "execute_result",
          "data": {
            "text/plain": [
              "            Production\n",
              "Date                  \n",
              "1962-01-01         589\n",
              "1962-02-01         561\n",
              "1962-03-01         640\n",
              "1962-04-01         656\n",
              "1962-05-01         727"
            ],
            "text/html": [
              "\n",
              "  <div id=\"df-3e4c9b8f-c9ed-4c22-a7ec-da94fc70ab43\">\n",
              "    <div class=\"colab-df-container\">\n",
              "      <div>\n",
              "<style scoped>\n",
              "    .dataframe tbody tr th:only-of-type {\n",
              "        vertical-align: middle;\n",
              "    }\n",
              "\n",
              "    .dataframe tbody tr th {\n",
              "        vertical-align: top;\n",
              "    }\n",
              "\n",
              "    .dataframe thead th {\n",
              "        text-align: right;\n",
              "    }\n",
              "</style>\n",
              "<table border=\"1\" class=\"dataframe\">\n",
              "  <thead>\n",
              "    <tr style=\"text-align: right;\">\n",
              "      <th></th>\n",
              "      <th>Production</th>\n",
              "    </tr>\n",
              "    <tr>\n",
              "      <th>Date</th>\n",
              "      <th></th>\n",
              "    </tr>\n",
              "  </thead>\n",
              "  <tbody>\n",
              "    <tr>\n",
              "      <th>1962-01-01</th>\n",
              "      <td>589</td>\n",
              "    </tr>\n",
              "    <tr>\n",
              "      <th>1962-02-01</th>\n",
              "      <td>561</td>\n",
              "    </tr>\n",
              "    <tr>\n",
              "      <th>1962-03-01</th>\n",
              "      <td>640</td>\n",
              "    </tr>\n",
              "    <tr>\n",
              "      <th>1962-04-01</th>\n",
              "      <td>656</td>\n",
              "    </tr>\n",
              "    <tr>\n",
              "      <th>1962-05-01</th>\n",
              "      <td>727</td>\n",
              "    </tr>\n",
              "  </tbody>\n",
              "</table>\n",
              "</div>\n",
              "      <button class=\"colab-df-convert\" onclick=\"convertToInteractive('df-3e4c9b8f-c9ed-4c22-a7ec-da94fc70ab43')\"\n",
              "              title=\"Convert this dataframe to an interactive table.\"\n",
              "              style=\"display:none;\">\n",
              "        \n",
              "  <svg xmlns=\"http://www.w3.org/2000/svg\" height=\"24px\"viewBox=\"0 0 24 24\"\n",
              "       width=\"24px\">\n",
              "    <path d=\"M0 0h24v24H0V0z\" fill=\"none\"/>\n",
              "    <path d=\"M18.56 5.44l.94 2.06.94-2.06 2.06-.94-2.06-.94-.94-2.06-.94 2.06-2.06.94zm-11 1L8.5 8.5l.94-2.06 2.06-.94-2.06-.94L8.5 2.5l-.94 2.06-2.06.94zm10 10l.94 2.06.94-2.06 2.06-.94-2.06-.94-.94-2.06-.94 2.06-2.06.94z\"/><path d=\"M17.41 7.96l-1.37-1.37c-.4-.4-.92-.59-1.43-.59-.52 0-1.04.2-1.43.59L10.3 9.45l-7.72 7.72c-.78.78-.78 2.05 0 2.83L4 21.41c.39.39.9.59 1.41.59.51 0 1.02-.2 1.41-.59l7.78-7.78 2.81-2.81c.8-.78.8-2.07 0-2.86zM5.41 20L4 18.59l7.72-7.72 1.47 1.35L5.41 20z\"/>\n",
              "  </svg>\n",
              "      </button>\n",
              "      \n",
              "  <style>\n",
              "    .colab-df-container {\n",
              "      display:flex;\n",
              "      flex-wrap:wrap;\n",
              "      gap: 12px;\n",
              "    }\n",
              "\n",
              "    .colab-df-convert {\n",
              "      background-color: #E8F0FE;\n",
              "      border: none;\n",
              "      border-radius: 50%;\n",
              "      cursor: pointer;\n",
              "      display: none;\n",
              "      fill: #1967D2;\n",
              "      height: 32px;\n",
              "      padding: 0 0 0 0;\n",
              "      width: 32px;\n",
              "    }\n",
              "\n",
              "    .colab-df-convert:hover {\n",
              "      background-color: #E2EBFA;\n",
              "      box-shadow: 0px 1px 2px rgba(60, 64, 67, 0.3), 0px 1px 3px 1px rgba(60, 64, 67, 0.15);\n",
              "      fill: #174EA6;\n",
              "    }\n",
              "\n",
              "    [theme=dark] .colab-df-convert {\n",
              "      background-color: #3B4455;\n",
              "      fill: #D2E3FC;\n",
              "    }\n",
              "\n",
              "    [theme=dark] .colab-df-convert:hover {\n",
              "      background-color: #434B5C;\n",
              "      box-shadow: 0px 1px 3px 1px rgba(0, 0, 0, 0.15);\n",
              "      filter: drop-shadow(0px 1px 2px rgba(0, 0, 0, 0.3));\n",
              "      fill: #FFFFFF;\n",
              "    }\n",
              "  </style>\n",
              "\n",
              "      <script>\n",
              "        const buttonEl =\n",
              "          document.querySelector('#df-3e4c9b8f-c9ed-4c22-a7ec-da94fc70ab43 button.colab-df-convert');\n",
              "        buttonEl.style.display =\n",
              "          google.colab.kernel.accessAllowed ? 'block' : 'none';\n",
              "\n",
              "        async function convertToInteractive(key) {\n",
              "          const element = document.querySelector('#df-3e4c9b8f-c9ed-4c22-a7ec-da94fc70ab43');\n",
              "          const dataTable =\n",
              "            await google.colab.kernel.invokeFunction('convertToInteractive',\n",
              "                                                     [key], {});\n",
              "          if (!dataTable) return;\n",
              "\n",
              "          const docLinkHtml = 'Like what you see? Visit the ' +\n",
              "            '<a target=\"_blank\" href=https://colab.research.google.com/notebooks/data_table.ipynb>data table notebook</a>'\n",
              "            + ' to learn more about interactive tables.';\n",
              "          element.innerHTML = '';\n",
              "          dataTable['output_type'] = 'display_data';\n",
              "          await google.colab.output.renderOutput(dataTable, element);\n",
              "          const docLink = document.createElement('div');\n",
              "          docLink.innerHTML = docLinkHtml;\n",
              "          element.appendChild(docLink);\n",
              "        }\n",
              "      </script>\n",
              "    </div>\n",
              "  </div>\n",
              "  "
            ]
          },
          "metadata": {},
          "execution_count": 3
        }
      ]
    },
    {
      "cell_type": "code",
      "source": [
        "df.tail()"
      ],
      "metadata": {
        "colab": {
          "base_uri": "https://localhost:8080/",
          "height": 238
        },
        "id": "d-7CUXcMslsJ",
        "outputId": "628ac7f5-3bc4-40ea-a074-48b9d41f4331"
      },
      "execution_count": 4,
      "outputs": [
        {
          "output_type": "execute_result",
          "data": {
            "text/plain": [
              "            Production\n",
              "Date                  \n",
              "1975-08-01         858\n",
              "1975-09-01         817\n",
              "1975-10-01         827\n",
              "1975-11-01         797\n",
              "1975-12-01         843"
            ],
            "text/html": [
              "\n",
              "  <div id=\"df-1485c766-8781-4e00-a49e-d5bc4fc19723\">\n",
              "    <div class=\"colab-df-container\">\n",
              "      <div>\n",
              "<style scoped>\n",
              "    .dataframe tbody tr th:only-of-type {\n",
              "        vertical-align: middle;\n",
              "    }\n",
              "\n",
              "    .dataframe tbody tr th {\n",
              "        vertical-align: top;\n",
              "    }\n",
              "\n",
              "    .dataframe thead th {\n",
              "        text-align: right;\n",
              "    }\n",
              "</style>\n",
              "<table border=\"1\" class=\"dataframe\">\n",
              "  <thead>\n",
              "    <tr style=\"text-align: right;\">\n",
              "      <th></th>\n",
              "      <th>Production</th>\n",
              "    </tr>\n",
              "    <tr>\n",
              "      <th>Date</th>\n",
              "      <th></th>\n",
              "    </tr>\n",
              "  </thead>\n",
              "  <tbody>\n",
              "    <tr>\n",
              "      <th>1975-08-01</th>\n",
              "      <td>858</td>\n",
              "    </tr>\n",
              "    <tr>\n",
              "      <th>1975-09-01</th>\n",
              "      <td>817</td>\n",
              "    </tr>\n",
              "    <tr>\n",
              "      <th>1975-10-01</th>\n",
              "      <td>827</td>\n",
              "    </tr>\n",
              "    <tr>\n",
              "      <th>1975-11-01</th>\n",
              "      <td>797</td>\n",
              "    </tr>\n",
              "    <tr>\n",
              "      <th>1975-12-01</th>\n",
              "      <td>843</td>\n",
              "    </tr>\n",
              "  </tbody>\n",
              "</table>\n",
              "</div>\n",
              "      <button class=\"colab-df-convert\" onclick=\"convertToInteractive('df-1485c766-8781-4e00-a49e-d5bc4fc19723')\"\n",
              "              title=\"Convert this dataframe to an interactive table.\"\n",
              "              style=\"display:none;\">\n",
              "        \n",
              "  <svg xmlns=\"http://www.w3.org/2000/svg\" height=\"24px\"viewBox=\"0 0 24 24\"\n",
              "       width=\"24px\">\n",
              "    <path d=\"M0 0h24v24H0V0z\" fill=\"none\"/>\n",
              "    <path d=\"M18.56 5.44l.94 2.06.94-2.06 2.06-.94-2.06-.94-.94-2.06-.94 2.06-2.06.94zm-11 1L8.5 8.5l.94-2.06 2.06-.94-2.06-.94L8.5 2.5l-.94 2.06-2.06.94zm10 10l.94 2.06.94-2.06 2.06-.94-2.06-.94-.94-2.06-.94 2.06-2.06.94z\"/><path d=\"M17.41 7.96l-1.37-1.37c-.4-.4-.92-.59-1.43-.59-.52 0-1.04.2-1.43.59L10.3 9.45l-7.72 7.72c-.78.78-.78 2.05 0 2.83L4 21.41c.39.39.9.59 1.41.59.51 0 1.02-.2 1.41-.59l7.78-7.78 2.81-2.81c.8-.78.8-2.07 0-2.86zM5.41 20L4 18.59l7.72-7.72 1.47 1.35L5.41 20z\"/>\n",
              "  </svg>\n",
              "      </button>\n",
              "      \n",
              "  <style>\n",
              "    .colab-df-container {\n",
              "      display:flex;\n",
              "      flex-wrap:wrap;\n",
              "      gap: 12px;\n",
              "    }\n",
              "\n",
              "    .colab-df-convert {\n",
              "      background-color: #E8F0FE;\n",
              "      border: none;\n",
              "      border-radius: 50%;\n",
              "      cursor: pointer;\n",
              "      display: none;\n",
              "      fill: #1967D2;\n",
              "      height: 32px;\n",
              "      padding: 0 0 0 0;\n",
              "      width: 32px;\n",
              "    }\n",
              "\n",
              "    .colab-df-convert:hover {\n",
              "      background-color: #E2EBFA;\n",
              "      box-shadow: 0px 1px 2px rgba(60, 64, 67, 0.3), 0px 1px 3px 1px rgba(60, 64, 67, 0.15);\n",
              "      fill: #174EA6;\n",
              "    }\n",
              "\n",
              "    [theme=dark] .colab-df-convert {\n",
              "      background-color: #3B4455;\n",
              "      fill: #D2E3FC;\n",
              "    }\n",
              "\n",
              "    [theme=dark] .colab-df-convert:hover {\n",
              "      background-color: #434B5C;\n",
              "      box-shadow: 0px 1px 3px 1px rgba(0, 0, 0, 0.15);\n",
              "      filter: drop-shadow(0px 1px 2px rgba(0, 0, 0, 0.3));\n",
              "      fill: #FFFFFF;\n",
              "    }\n",
              "  </style>\n",
              "\n",
              "      <script>\n",
              "        const buttonEl =\n",
              "          document.querySelector('#df-1485c766-8781-4e00-a49e-d5bc4fc19723 button.colab-df-convert');\n",
              "        buttonEl.style.display =\n",
              "          google.colab.kernel.accessAllowed ? 'block' : 'none';\n",
              "\n",
              "        async function convertToInteractive(key) {\n",
              "          const element = document.querySelector('#df-1485c766-8781-4e00-a49e-d5bc4fc19723');\n",
              "          const dataTable =\n",
              "            await google.colab.kernel.invokeFunction('convertToInteractive',\n",
              "                                                     [key], {});\n",
              "          if (!dataTable) return;\n",
              "\n",
              "          const docLinkHtml = 'Like what you see? Visit the ' +\n",
              "            '<a target=\"_blank\" href=https://colab.research.google.com/notebooks/data_table.ipynb>data table notebook</a>'\n",
              "            + ' to learn more about interactive tables.';\n",
              "          element.innerHTML = '';\n",
              "          dataTable['output_type'] = 'display_data';\n",
              "          await google.colab.output.renderOutput(dataTable, element);\n",
              "          const docLink = document.createElement('div');\n",
              "          docLink.innerHTML = docLinkHtml;\n",
              "          element.appendChild(docLink);\n",
              "        }\n",
              "      </script>\n",
              "    </div>\n",
              "  </div>\n",
              "  "
            ]
          },
          "metadata": {},
          "execution_count": 4
        }
      ]
    },
    {
      "cell_type": "markdown",
      "source": [
        "**Penjelasan**\n",
        "\n",
        "Dalam kode di atas, kita pertama-tama membaca file CSV yang disimpan di lokasi google drive menggunakan perintah read_csv(). Kemudian, kita menentukan bahwa baris pertama dari file tersebut merupakan nama kolom dengan menggunakan header=0, dan kita juga menentukan bahwa kolom 'Date' akan dijadikan indeks dari DataFrame menggunakan index_col='Date'. Perintah parse_dates=True menunjukkan bahwa kita ingin mengubah tanggal-tanggal yang ada dalam file tersebut menjadi tipe data tanggal.\n",
        "\n",
        "Setelah membaca file CSV, kita menentukan bahwa indeks dari DataFrame memiliki frekuensi bulanan ('MS' adalah singkatan dari 'month start') dengan menggunakan perintah df.index.freq='MS'. Ini akan membantu kita untuk mengatur waktu yang terkandung dalam DataFrame dengan lebih baik ketika kita melakukan analisis terhadap data tersebut."
      ],
      "metadata": {
        "id": "1ZQWlyJ3EPHb"
      }
    },
    {
      "cell_type": "code",
      "source": [
        "# ploting data \n",
        "plt.figure(figsize=(10,5))\n",
        "plt.plot(df, label='Production'), plt.xlabel('Dates'), \n",
        "plt.ylabel('Production'), plt.title('Grafik Produksi Susu Bulanan ')\n",
        "plt.legend(), plt.grid(), plt.show()"
      ],
      "metadata": {
        "colab": {
          "base_uri": "https://localhost:8080/",
          "height": 367
        },
        "id": "j1GlSmafFz_R",
        "outputId": "9fc501d1-8bd1-4737-eeee-bb49c9cf0e16"
      },
      "execution_count": 5,
      "outputs": [
        {
          "output_type": "display_data",
          "data": {
            "text/plain": [
              "<Figure size 720x360 with 1 Axes>"
            ],
            "image/png": "[encoded data removed]"
          },
          "metadata": {
            "needs_background": "light"
          }
        },
        {
          "output_type": "execute_result",
          "data": {
            "text/plain": [
              "(<matplotlib.legend.Legend at 0x7fba2ebc69a0>, None, None)"
            ]
          },
          "metadata": {},
          "execution_count": 5
        }
      ]
    },
    {
      "cell_type": "markdown",
      "source": [
        "**Penjelasan**\n",
        "\n",
        "Dari hasil ploting grafik data bersifat non stasioner, Data non stasioner adalah data yang tidak memiliki pola yang teratur atau tidak memiliki kecenderungan yang jelas. Data non stasioner dapat menunjukkan fluktuasi yang tinggi atau perubahan yang tidak terprediksi dari waktu ke waktu.\n",
        "\n",
        "karena data kita bersifat non stasioner maka kita perlu melaukan decompose menggunkan library **statsmodels.tsa.seasonal import seasonal_decompose** . Metode decompose akan memisahkan data menjadi tiga komponen: trend, seassonality, dan residual (sisa). \n",
        "1. Komponen trend akan menunjukkan pola dari data dalam jangka waktu yang panjang.\n",
        "2. komponen seassonality akan menunjukkan pola dari data yang terjadi secara teratur dalam jangka waktu yang lebih pendek. \n",
        "3. Komponen residual merupakan sisa dari data yang tidak dapat dijelaskan oleh komponen trend dan seassonality."
      ],
      "metadata": {
        "id": "G3w3IJ1tG20J"
      }
    },
    {
      "cell_type": "code",
      "source": [
        "# import library decompose\n",
        "from statsmodels.tsa.seasonal import seasonal_decompose"
      ],
      "metadata": {
        "id": "at_MjSfeKcBS"
      },
      "execution_count": 6,
      "outputs": []
    },
    {
      "cell_type": "code",
      "source": [
        "# do decompose\n",
        "results = seasonal_decompose(df['Production'])\n",
        "results.plot();"
      ],
      "metadata": {
        "colab": {
          "base_uri": "https://localhost:8080/",
          "height": 297
        },
        "id": "oxLT-FuucWnx",
        "outputId": "ee02a72b-e544-4513-b73e-ed1d6c7c7f35"
      },
      "execution_count": 7,
      "outputs": [
        {
          "output_type": "display_data",
          "data": {
            "text/plain": [
              "<Figure size 432x288 with 4 Axes>"
            ],
            "image/png": "[encoded data removed]"
          },
          "metadata": {
            "needs_background": "light"
          }
        }
      ]
    },
    {
      "cell_type": "markdown",
      "source": [
        "**Penjelasan**\n",
        "\n",
        "Dengan menggunakan metode decompose diatas kita dapat menganalisis data yang memiliki trend dan seassonality dengan lebih mendalam dan memahami pola yang terjadi pada data tersebut."
      ],
      "metadata": {
        "id": "iAiNPPWGc9s9"
      }
    },
    {
      "cell_type": "code",
      "source": [
        "# menghitung jumlah baris df\n",
        "len(df)"
      ],
      "metadata": {
        "colab": {
          "base_uri": "https://localhost:8080/"
        },
        "id": "fMfDdssNd6NU",
        "outputId": "2af07000-14e9-4063-b6aa-04fbbe351a60"
      },
      "execution_count": 8,
      "outputs": [
        {
          "output_type": "execute_result",
          "data": {
            "text/plain": [
              "168"
            ]
          },
          "metadata": {},
          "execution_count": 8
        }
      ]
    },
    {
      "cell_type": "markdown",
      "source": [
        "\"len()\" akan menghitung jumlah baris dalam objek DataFrame \"df\". DataFrame \"df\" memiliki 168 baris. Tujuan dari perhitungan jumlah baris untuk menentukan pembagian data pada tahap spliting data."
      ],
      "metadata": {
        "id": "oiGS74hvePL-"
      }
    },
    {
      "cell_type": "markdown",
      "source": [
        "# **SPLITING DATA**"
      ],
      "metadata": {
        "id": "r-NFpx1Beki_"
      }
    },
    {
      "cell_type": "markdown",
      "source": [
        "Dalam latihan ini saya melakukan pembagian data menjadi training dan testing. Saya memakai semua data kecuali 12 terahir, data 12 terahir saya gunakan sebagai testing set hal ini karena data akan dilatih untuk melakukan prediksi pada 12 bulan terahir dari kumpulan data."
      ],
      "metadata": {
        "id": "Cyt7oI76evur"
      }
    },
    {
      "cell_type": "code",
      "source": [
        "# spliting data\n",
        "train = df.iloc[:156]\n",
        "test = df.iloc[156:]"
      ],
      "metadata": {
        "id": "AiXtOaL-ead4"
      },
      "execution_count": 31,
      "outputs": []
    },
    {
      "cell_type": "code",
      "source": [
        "# load data training\n",
        "train.head()"
      ],
      "metadata": {
        "colab": {
          "base_uri": "https://localhost:8080/",
          "height": 238
        },
        "id": "XbXGaUD9feXe",
        "outputId": "659026e9-2884-4ceb-a183-483428fe5e11"
      },
      "execution_count": 22,
      "outputs": [
        {
          "output_type": "execute_result",
          "data": {
            "text/plain": [
              "            Production\n",
              "Date                  \n",
              "1962-01-01         589\n",
              "1962-02-01         561\n",
              "1962-03-01         640\n",
              "1962-04-01         656\n",
              "1962-05-01         727"
            ],
            "text/html": [
              "\n",
              "  <div id=\"df-a804d1f2-aeb4-468f-83f4-9a080ea7bfa3\">\n",
              "    <div class=\"colab-df-container\">\n",
              "      <div>\n",
              "<style scoped>\n",
              "    .dataframe tbody tr th:only-of-type {\n",
              "        vertical-align: middle;\n",
              "    }\n",
              "\n",
              "    .dataframe tbody tr th {\n",
              "        vertical-align: top;\n",
              "    }\n",
              "\n",
              "    .dataframe thead th {\n",
              "        text-align: right;\n",
              "    }\n",
              "</style>\n",
              "<table border=\"1\" class=\"dataframe\">\n",
              "  <thead>\n",
              "    <tr style=\"text-align: right;\">\n",
              "      <th></th>\n",
              "      <th>Production</th>\n",
              "    </tr>\n",
              "    <tr>\n",
              "      <th>Date</th>\n",
              "      <th></th>\n",
              "    </tr>\n",
              "  </thead>\n",
              "  <tbody>\n",
              "    <tr>\n",
              "      <th>1962-01-01</th>\n",
              "      <td>589</td>\n",
              "    </tr>\n",
              "    <tr>\n",
              "      <th>1962-02-01</th>\n",
              "      <td>561</td>\n",
              "    </tr>\n",
              "    <tr>\n",
              "      <th>1962-03-01</th>\n",
              "      <td>640</td>\n",
              "    </tr>\n",
              "    <tr>\n",
              "      <th>1962-04-01</th>\n",
              "      <td>656</td>\n",
              "    </tr>\n",
              "    <tr>\n",
              "      <th>1962-05-01</th>\n",
              "      <td>727</td>\n",
              "    </tr>\n",
              "  </tbody>\n",
              "</table>\n",
              "</div>\n",
              "      <button class=\"colab-df-convert\" onclick=\"convertToInteractive('df-a804d1f2-aeb4-468f-83f4-9a080ea7bfa3')\"\n",
              "              title=\"Convert this dataframe to an interactive table.\"\n",
              "              style=\"display:none;\">\n",
              "        \n",
              "  <svg xmlns=\"http://www.w3.org/2000/svg\" height=\"24px\"viewBox=\"0 0 24 24\"\n",
              "       width=\"24px\">\n",
              "    <path d=\"M0 0h24v24H0V0z\" fill=\"none\"/>\n",
              "    <path d=\"M18.56 5.44l.94 2.06.94-2.06 2.06-.94-2.06-.94-.94-2.06-.94 2.06-2.06.94zm-11 1L8.5 8.5l.94-2.06 2.06-.94-2.06-.94L8.5 2.5l-.94 2.06-2.06.94zm10 10l.94 2.06.94-2.06 2.06-.94-2.06-.94-.94-2.06-.94 2.06-2.06.94z\"/><path d=\"M17.41 7.96l-1.37-1.37c-.4-.4-.92-.59-1.43-.59-.52 0-1.04.2-1.43.59L10.3 9.45l-7.72 7.72c-.78.78-.78 2.05 0 2.83L4 21.41c.39.39.9.59 1.41.59.51 0 1.02-.2 1.41-.59l7.78-7.78 2.81-2.81c.8-.78.8-2.07 0-2.86zM5.41 20L4 18.59l7.72-7.72 1.47 1.35L5.41 20z\"/>\n",
              "  </svg>\n",
              "      </button>\n",
              "      \n",
              "  <style>\n",
              "    .colab-df-container {\n",
              "      display:flex;\n",
              "      flex-wrap:wrap;\n",
              "      gap: 12px;\n",
              "    }\n",
              "\n",
              "    .colab-df-convert {\n",
              "      background-color: #E8F0FE;\n",
              "      border: none;\n",
              "      border-radius: 50%;\n",
              "      cursor: pointer;\n",
              "      display: none;\n",
              "      fill: #1967D2;\n",
              "      height: 32px;\n",
              "      padding: 0 0 0 0;\n",
              "      width: 32px;\n",
              "    }\n",
              "\n",
              "    .colab-df-convert:hover {\n",
              "      background-color: #E2EBFA;\n",
              "      box-shadow: 0px 1px 2px rgba(60, 64, 67, 0.3), 0px 1px 3px 1px rgba(60, 64, 67, 0.15);\n",
              "      fill: #174EA6;\n",
              "    }\n",
              "\n",
              "    [theme=dark] .colab-df-convert {\n",
              "      background-color: #3B4455;\n",
              "      fill: #D2E3FC;\n",
              "    }\n",
              "\n",
              "    [theme=dark] .colab-df-convert:hover {\n",
              "      background-color: #434B5C;\n",
              "      box-shadow: 0px 1px 3px 1px rgba(0, 0, 0, 0.15);\n",
              "      filter: drop-shadow(0px 1px 2px rgba(0, 0, 0, 0.3));\n",
              "      fill: #FFFFFF;\n",
              "    }\n",
              "  </style>\n",
              "\n",
              "      <script>\n",
              "        const buttonEl =\n",
              "          document.querySelector('#df-a804d1f2-aeb4-468f-83f4-9a080ea7bfa3 button.colab-df-convert');\n",
              "        buttonEl.style.display =\n",
              "          google.colab.kernel.accessAllowed ? 'block' : 'none';\n",
              "\n",
              "        async function convertToInteractive(key) {\n",
              "          const element = document.querySelector('#df-a804d1f2-aeb4-468f-83f4-9a080ea7bfa3');\n",
              "          const dataTable =\n",
              "            await google.colab.kernel.invokeFunction('convertToInteractive',\n",
              "                                                     [key], {});\n",
              "          if (!dataTable) return;\n",
              "\n",
              "          const docLinkHtml = 'Like what you see? Visit the ' +\n",
              "            '<a target=\"_blank\" href=https://colab.research.google.com/notebooks/data_table.ipynb>data table notebook</a>'\n",
              "            + ' to learn more about interactive tables.';\n",
              "          element.innerHTML = '';\n",
              "          dataTable['output_type'] = 'display_data';\n",
              "          await google.colab.output.renderOutput(dataTable, element);\n",
              "          const docLink = document.createElement('div');\n",
              "          docLink.innerHTML = docLinkHtml;\n",
              "          element.appendChild(docLink);\n",
              "        }\n",
              "      </script>\n",
              "    </div>\n",
              "  </div>\n",
              "  "
            ]
          },
          "metadata": {},
          "execution_count": 22
        }
      ]
    },
    {
      "cell_type": "code",
      "source": [
        "# load data test\n",
        "test.head()"
      ],
      "metadata": {
        "colab": {
          "base_uri": "https://localhost:8080/",
          "height": 238
        },
        "id": "Dh1zga-mfkZA",
        "outputId": "b62fa9b0-eedd-47b0-86a7-7dccfd68eb98"
      },
      "execution_count": 23,
      "outputs": [
        {
          "output_type": "execute_result",
          "data": {
            "text/plain": [
              "            Production\n",
              "Date                  \n",
              "1975-01-01         834\n",
              "1975-02-01         782\n",
              "1975-03-01         892\n",
              "1975-04-01         903\n",
              "1975-05-01         966"
            ],
            "text/html": [
              "\n",
              "  <div id=\"df-d6036659-9dd2-44e4-8cb8-c9819644ab6e\">\n",
              "    <div class=\"colab-df-container\">\n",
              "      <div>\n",
              "<style scoped>\n",
              "    .dataframe tbody tr th:only-of-type {\n",
              "        vertical-align: middle;\n",
              "    }\n",
              "\n",
              "    .dataframe tbody tr th {\n",
              "        vertical-align: top;\n",
              "    }\n",
              "\n",
              "    .dataframe thead th {\n",
              "        text-align: right;\n",
              "    }\n",
              "</style>\n",
              "<table border=\"1\" class=\"dataframe\">\n",
              "  <thead>\n",
              "    <tr style=\"text-align: right;\">\n",
              "      <th></th>\n",
              "      <th>Production</th>\n",
              "    </tr>\n",
              "    <tr>\n",
              "      <th>Date</th>\n",
              "      <th></th>\n",
              "    </tr>\n",
              "  </thead>\n",
              "  <tbody>\n",
              "    <tr>\n",
              "      <th>1975-01-01</th>\n",
              "      <td>834</td>\n",
              "    </tr>\n",
              "    <tr>\n",
              "      <th>1975-02-01</th>\n",
              "      <td>782</td>\n",
              "    </tr>\n",
              "    <tr>\n",
              "      <th>1975-03-01</th>\n",
              "      <td>892</td>\n",
              "    </tr>\n",
              "    <tr>\n",
              "      <th>1975-04-01</th>\n",
              "      <td>903</td>\n",
              "    </tr>\n",
              "    <tr>\n",
              "      <th>1975-05-01</th>\n",
              "      <td>966</td>\n",
              "    </tr>\n",
              "  </tbody>\n",
              "</table>\n",
              "</div>\n",
              "      <button class=\"colab-df-convert\" onclick=\"convertToInteractive('df-d6036659-9dd2-44e4-8cb8-c9819644ab6e')\"\n",
              "              title=\"Convert this dataframe to an interactive table.\"\n",
              "              style=\"display:none;\">\n",
              "        \n",
              "  <svg xmlns=\"http://www.w3.org/2000/svg\" height=\"24px\"viewBox=\"0 0 24 24\"\n",
              "       width=\"24px\">\n",
              "    <path d=\"M0 0h24v24H0V0z\" fill=\"none\"/>\n",
              "    <path d=\"M18.56 5.44l.94 2.06.94-2.06 2.06-.94-2.06-.94-.94-2.06-.94 2.06-2.06.94zm-11 1L8.5 8.5l.94-2.06 2.06-.94-2.06-.94L8.5 2.5l-.94 2.06-2.06.94zm10 10l.94 2.06.94-2.06 2.06-.94-2.06-.94-.94-2.06-.94 2.06-2.06.94z\"/><path d=\"M17.41 7.96l-1.37-1.37c-.4-.4-.92-.59-1.43-.59-.52 0-1.04.2-1.43.59L10.3 9.45l-7.72 7.72c-.78.78-.78 2.05 0 2.83L4 21.41c.39.39.9.59 1.41.59.51 0 1.02-.2 1.41-.59l7.78-7.78 2.81-2.81c.8-.78.8-2.07 0-2.86zM5.41 20L4 18.59l7.72-7.72 1.47 1.35L5.41 20z\"/>\n",
              "  </svg>\n",
              "      </button>\n",
              "      \n",
              "  <style>\n",
              "    .colab-df-container {\n",
              "      display:flex;\n",
              "      flex-wrap:wrap;\n",
              "      gap: 12px;\n",
              "    }\n",
              "\n",
              "    .colab-df-convert {\n",
              "      background-color: #E8F0FE;\n",
              "      border: none;\n",
              "      border-radius: 50%;\n",
              "      cursor: pointer;\n",
              "      display: none;\n",
              "      fill: #1967D2;\n",
              "      height: 32px;\n",
              "      padding: 0 0 0 0;\n",
              "      width: 32px;\n",
              "    }\n",
              "\n",
              "    .colab-df-convert:hover {\n",
              "      background-color: #E2EBFA;\n",
              "      box-shadow: 0px 1px 2px rgba(60, 64, 67, 0.3), 0px 1px 3px 1px rgba(60, 64, 67, 0.15);\n",
              "      fill: #174EA6;\n",
              "    }\n",
              "\n",
              "    [theme=dark] .colab-df-convert {\n",
              "      background-color: #3B4455;\n",
              "      fill: #D2E3FC;\n",
              "    }\n",
              "\n",
              "    [theme=dark] .colab-df-convert:hover {\n",
              "      background-color: #434B5C;\n",
              "      box-shadow: 0px 1px 3px 1px rgba(0, 0, 0, 0.15);\n",
              "      filter: drop-shadow(0px 1px 2px rgba(0, 0, 0, 0.3));\n",
              "      fill: #FFFFFF;\n",
              "    }\n",
              "  </style>\n",
              "\n",
              "      <script>\n",
              "        const buttonEl =\n",
              "          document.querySelector('#df-d6036659-9dd2-44e4-8cb8-c9819644ab6e button.colab-df-convert');\n",
              "        buttonEl.style.display =\n",
              "          google.colab.kernel.accessAllowed ? 'block' : 'none';\n",
              "\n",
              "        async function convertToInteractive(key) {\n",
              "          const element = document.querySelector('#df-d6036659-9dd2-44e4-8cb8-c9819644ab6e');\n",
              "          const dataTable =\n",
              "            await google.colab.kernel.invokeFunction('convertToInteractive',\n",
              "                                                     [key], {});\n",
              "          if (!dataTable) return;\n",
              "\n",
              "          const docLinkHtml = 'Like what you see? Visit the ' +\n",
              "            '<a target=\"_blank\" href=https://colab.research.google.com/notebooks/data_table.ipynb>data table notebook</a>'\n",
              "            + ' to learn more about interactive tables.';\n",
              "          element.innerHTML = '';\n",
              "          dataTable['output_type'] = 'display_data';\n",
              "          await google.colab.output.renderOutput(dataTable, element);\n",
              "          const docLink = document.createElement('div');\n",
              "          docLink.innerHTML = docLinkHtml;\n",
              "          element.appendChild(docLink);\n",
              "        }\n",
              "      </script>\n",
              "    </div>\n",
              "  </div>\n",
              "  "
            ]
          },
          "metadata": {},
          "execution_count": 23
        }
      ]
    },
    {
      "cell_type": "code",
      "source": [
        "plt.figure(figsize=(10, 6))\n",
        "plt.plot(train, label='Data Training')\n",
        "plt.plot(test, label='Data Testing')\n",
        "plt.xlabel('Dates'), plt.ylabel('Production')\n",
        "plt.title('Grafik Perbandingan Training dan Testing')\n",
        "plt.legend(), plt.grid(), plt.show()"
      ],
      "metadata": {
        "colab": {
          "base_uri": "https://localhost:8080/",
          "height": 421
        },
        "id": "ccPoDrjVhkcb",
        "outputId": "3276fdf3-50f4-4455-fe9e-7e90bce75011"
      },
      "execution_count": 24,
      "outputs": [
        {
          "output_type": "display_data",
          "data": {
            "text/plain": [
              "<Figure size 720x432 with 1 Axes>"
            ],
            "image/png": "[encoded data removed]"
          },
          "metadata": {
            "needs_background": "light"
          }
        },
        {
          "output_type": "execute_result",
          "data": {
            "text/plain": [
              "(<matplotlib.legend.Legend at 0x7fe49d544d60>, None, None)"
            ]
          },
          "metadata": {},
          "execution_count": 24
        }
      ]
    },
    {
      "cell_type": "markdown",
      "source": [
        "**Penjelasan**\n",
        "\n",
        "Setelah melakukan spliting data selanjutnya adalah melakukan konversi data menjadi skala rentang antara 0 dan 1. Dengan menggunakan \"MinMaxScaler\", kita dapat mengubah nilai data ke dalam rentang yang sama (0-1) sehingga lebih mudah untuk dianalisis atau dibandingkan dengan data lain."
      ],
      "metadata": {
        "id": "vmghvECHiafX"
      }
    },
    {
      "cell_type": "code",
      "source": [
        "# import library minmaxscaler\n",
        "\n",
        "from sklearn.preprocessing import MinMaxScaler\n",
        "scaler = MinMaxScaler()"
      ],
      "metadata": {
        "id": "9bNPczIZfpqb"
      },
      "execution_count": 25,
      "outputs": []
    },
    {
      "cell_type": "code",
      "source": [
        "# do scaler\n",
        "scaler.fit(train)\n",
        "scaled_train = scaler.transform(train)\n",
        "scaled_test = scaler.transform(test)"
      ],
      "metadata": {
        "id": "8M4iMdtijAVu"
      },
      "execution_count": 26,
      "outputs": []
    },
    {
      "cell_type": "markdown",
      "source": [
        "**Penjelasan**\n",
        "\n",
        "Kode di atas merupakan proses scaling data dengan menggunakan metode MinMaxScaler. Proses scaling dilakukan untuk mengubah nilai data ke dalam rentang yang sama (0-1) sehingga lebih mudah untuk dianalisis atau dibandingkan dengan data lain.\n",
        "\n",
        "Pertama, objek \"scaler\" akan di-fit dengan data \"train\" dengan menggunakan fungsi \"fit()\". Fungsi ini akan mencari nilai maksimum dan minimum dari data \"train\" sebagai acuan dalam proses scaling.\n",
        "Kemudian, data \"train\" akan di-transform dengan menggunakan fungsi \"transform()\" dan hasilnya akan disimpan ke dalam variabel \"scaled_train\".\n",
        "Setelah itu, data \"test\" akan di-transform dengan menggunakan fungsi \"transform()\" dan hasilnya akan disimpan ke dalam variabel \"scaled_test\"."
      ],
      "metadata": {
        "id": "_NfkTIgHjiG4"
      }
    },
    {
      "cell_type": "code",
      "source": [
        "# load data train hasil scaler\n",
        "scaled_train[:10]"
      ],
      "metadata": {
        "colab": {
          "base_uri": "https://localhost:8080/"
        },
        "id": "Jgwct_Dtj1N4",
        "outputId": "65f0169b-d0ef-4c79-d291-de84f3358291"
      },
      "execution_count": 18,
      "outputs": [
        {
          "output_type": "execute_result",
          "data": {
            "text/plain": [
              "array([[0.08653846],\n",
              "       [0.01923077],\n",
              "       [0.20913462],\n",
              "       [0.24759615],\n",
              "       [0.41826923],\n",
              "       [0.34615385],\n",
              "       [0.20913462],\n",
              "       [0.11057692],\n",
              "       [0.03605769],\n",
              "       [0.05769231]])"
            ]
          },
          "metadata": {},
          "execution_count": 18
        }
      ]
    },
    {
      "cell_type": "code",
      "source": [
        "plt.figure(figsize=(10, 6))\n",
        "plt.plot(scaled_train, label='Data Training')\n",
        "plt.xlabel('Dates'), plt.ylabel('Production')\n",
        "plt.title('Grafik Data Training Setelah discaler')\n",
        "plt.legend(), plt.grid(), plt.show()"
      ],
      "metadata": {
        "colab": {
          "base_uri": "https://localhost:8080/",
          "height": 421
        },
        "id": "1MaSZ-a3j5gd",
        "outputId": "b9581a6e-71df-447b-d04a-f8d178f46b6d"
      },
      "execution_count": 31,
      "outputs": [
        {
          "output_type": "display_data",
          "data": {
            "text/plain": [
              "<Figure size 720x432 with 1 Axes>"
            ],
            "image/png": "[encoded data removed]"
          },
          "metadata": {
            "needs_background": "light"
          }
        },
        {
          "output_type": "execute_result",
          "data": {
            "text/plain": [
              "(<matplotlib.legend.Legend at 0x7fe499954b50>, None, None)"
            ]
          },
          "metadata": {},
          "execution_count": 31
        }
      ]
    },
    {
      "cell_type": "code",
      "source": [
        "# load data test hasil scaler\n",
        "scaled_test[:10]"
      ],
      "metadata": {
        "colab": {
          "base_uri": "https://localhost:8080/"
        },
        "id": "JeqwCw3EkDNr",
        "outputId": "d085b384-c4fe-45af-c693-48c18154b0fd"
      },
      "execution_count": 19,
      "outputs": [
        {
          "output_type": "execute_result",
          "data": {
            "text/plain": [
              "array([[0.67548077],\n",
              "       [0.55048077],\n",
              "       [0.81490385],\n",
              "       [0.84134615],\n",
              "       [0.99278846],\n",
              "       [0.92307692],\n",
              "       [0.82451923],\n",
              "       [0.73317308],\n",
              "       [0.63461538],\n",
              "       [0.65865385]])"
            ]
          },
          "metadata": {},
          "execution_count": 19
        }
      ]
    },
    {
      "cell_type": "code",
      "source": [
        "plt.figure(figsize=(10, 6))\n",
        "plt.plot(scaled_test, label='Data Testing')\n",
        "plt.xlabel('Dates'), plt.ylabel('Production')\n",
        "plt.title('Grafik Data Testing Setelah discaler')\n",
        "plt.legend(), plt.grid(), plt.show()"
      ],
      "metadata": {
        "colab": {
          "base_uri": "https://localhost:8080/",
          "height": 421
        },
        "id": "tlGK27z9jTDj",
        "outputId": "39f50d7d-0193-4ad0-8454-994a440d9f08"
      },
      "execution_count": 32,
      "outputs": [
        {
          "output_type": "display_data",
          "data": {
            "text/plain": [
              "<Figure size 720x432 with 1 Axes>"
            ],
            "image/png": "[encoded data removed]"
          },
          "metadata": {
            "needs_background": "light"
          }
        },
        {
          "output_type": "execute_result",
          "data": {
            "text/plain": [
              "(<matplotlib.legend.Legend at 0x7fe49991f400>, None, None)"
            ]
          },
          "metadata": {},
          "execution_count": 32
        }
      ]
    },
    {
      "cell_type": "markdown",
      "source": [
        "Proses selanjutnya adalah membuat generator yang dapat digunakan untuk membuat batch data yang terstruktur dari time series. Kelas ini berguna ketika Anda ingin menggunakan data time series sebagai masukan untuk model deep learning seperti Recurrent Neural Network (RNN)."
      ],
      "metadata": {
        "id": "a_uD_45Ekbld"
      }
    },
    {
      "cell_type": "code",
      "source": [
        "# import library times seris generator\n",
        "from keras.preprocessing.sequence import TimeseriesGenerator"
      ],
      "metadata": {
        "id": "C6prYmjdklEp"
      },
      "execution_count": 33,
      "outputs": []
    },
    {
      "cell_type": "code",
      "source": [
        "# define generator\n",
        "n_input = 3\n",
        "n_features = 1\n",
        "generator = TimeseriesGenerator(scaled_train, scaled_train, length=n_input, batch_size=1)"
      ],
      "metadata": {
        "id": "fxG1oTXGk7pJ"
      },
      "execution_count": 34,
      "outputs": []
    },
    {
      "cell_type": "markdown",
      "source": [
        "**Penjelasan**\n",
        "\n",
        "Kode di atas akan membuat generator yang dapat digunakan untuk membuat batch data yang terstruktur dari time series dengan menggunakan kelas \"TimeseriesGenerator\". Data yang akan dijadikan sebagai masukan adalah \"scaled_train\" dan hasilnya juga akan disimpan ke dalam \"scaled_train\".\n",
        "\n",
        "1. Variabel \"n_input\" akan menentukan jumlah timestep yang akan digunakan dalam setiap batch data. Dalam contoh ini, jumlah timestep adalah 3. Timestep merupakan jumlah waktu yang digunakan untuk memprediksi suatu nilai dalam time series.\n",
        "\n",
        "2. Variabel \"n_features\" akan menentukan jumlah fitur yang akan digunakan dalam setiap batch data. Dalam contoh ini, jumlah fitur adalah 1.\n",
        "\n",
        "Kemudian, generator akan dibuat dengan menggunakan \"scaled_train\", \"scaled_train\", \"n_input\", dan \"batch_size\" sebagai argument."
      ],
      "metadata": {
        "id": "cKgFOTyck00a"
      }
    },
    {
      "cell_type": "code",
      "source": [
        "X,y = generator[0]\n",
        "print(f'Given the Array: \\n{X.flatten()}')\n",
        "print(f'Predict this y: \\n {y}')"
      ],
      "metadata": {
        "colab": {
          "base_uri": "https://localhost:8080/"
        },
        "id": "GXOw2JM9bjgS",
        "outputId": "160139e7-76e0-4125-bcf8-c4215d80da25"
      },
      "execution_count": 35,
      "outputs": [
        {
          "output_type": "stream",
          "name": "stdout",
          "text": [
            "Given the Array: \n",
            "[0.08653846 0.01923077 0.20913462]\n",
            "Predict this y: \n",
            " [[0.24759615]]\n"
          ]
        }
      ]
    },
    {
      "cell_type": "markdown",
      "source": [
        "**penjelasan**\n",
        "\n",
        "Kode di atas akan mengambil data pertama dari generator yang telah dibuat dan menampilkannya ke layar.\n",
        "\n",
        "Pertama, variabel \"X\" dan \"y\" akan di-assign dengan data pertama dari generator dengan menggunakan notasi \"[]\" pada generator. Data \"X\" merupakan input dari generator yang terdiri dari array dengan shape (batch_size, timestep, fitur), sedangkan data \"y\" merupakan output dari generator yang terdiri dari array dengan shape (batch_size, fitur).\n",
        "\n",
        "Kemudian, fungsi \"flatten()\" akan mengubah data \"X\" menjadi array 1D dengan menggabungkan semua elemen di dalamnya.\n",
        "\n",
        "Terakhir, data \"X\" dan \"y\" akan dicetak ke layar dengan menggunakan perintah \"print()\". Dengan menggunakan kode di atas, kita dapat melihat data yang tersedia di dalam generator dan mengecek apakah data tersebut sesuai dengan yang diinginkan."
      ],
      "metadata": {
        "id": "17YTg0mKb2Nf"
      }
    },
    {
      "cell_type": "code",
      "source": [
        "X.shape"
      ],
      "metadata": {
        "colab": {
          "base_uri": "https://localhost:8080/"
        },
        "id": "X_K2ZssocFKd",
        "outputId": "8b4e51a0-3b0b-4fc0-a389-c384c6023c95"
      },
      "execution_count": 36,
      "outputs": [
        {
          "output_type": "execute_result",
          "data": {
            "text/plain": [
              "(1, 3, 1)"
            ]
          },
          "metadata": {},
          "execution_count": 36
        }
      ]
    },
    {
      "cell_type": "code",
      "source": [
        "# We do the same thing, but now instead for 12 months\n",
        "n_input = 12\n",
        "generator = TimeseriesGenerator(scaled_train, scaled_train, length=n_input, batch_size=1)"
      ],
      "metadata": {
        "id": "q1I_laFacLtT"
      },
      "execution_count": 37,
      "outputs": []
    },
    {
      "cell_type": "markdown",
      "source": [
        "Kode di atas akan membuat generator yang dapat digunakan untuk membuat batch data yang terstruktur dari time series dengan menggunakan kelas \"TimeseriesGenerator\". Data yang akan dijadikan sebagai masukan adalah \"scaled_train\" dan hasilnya juga akan disimpan ke dalam \"scaled_train\".\n",
        "\n",
        "Variabel \"n_input\" akan menentukan jumlah timestep yang akan digunakan dalam setiap batch data. Dalam contoh ini, jumlah timestep adalah 12.\n",
        "Kemudian, generator akan dibuat dengan menggunakan \"scaled_train\", \"scaled_train\", \"n_input\", dan \"batch_size\" sebagai argument."
      ],
      "metadata": {
        "id": "zztWAnzEcgNZ"
      }
    },
    {
      "cell_type": "markdown",
      "source": [
        "# **DEFINE MODEL**"
      ],
      "metadata": {
        "id": "W43gNfGRc3K8"
      }
    },
    {
      "cell_type": "code",
      "source": [
        "from keras.models import Sequential\n",
        "from keras.layers import Dense\n",
        "from keras.layers import LSTM"
      ],
      "metadata": {
        "id": "ib6tIKCGc1BG"
      },
      "execution_count": 38,
      "outputs": []
    },
    {
      "cell_type": "markdown",
      "source": [
        "\"Sequential\", \"Dense\", dan \"LSTM\" adalah kelas yang terdapat dalam library \"keras\" yang digunakan untuk membuat model deep learning.\n",
        "\n",
        "\"Sequential\" adalah kelas yang digunakan untuk membuat model neural network yang terdiri dari lapisan-lapisan yang terhubung secara linier.\n",
        "\"Dense\" adalah kelas yang digunakan untuk membuat lapisan fully-connected pada model neural network. Lapisan ini akan menerima input dari lapisan sebelumnya, mengolah input tersebut menggunakan fungsi aktivasi, dan menghasilkan output ke lapisan selanjutnya.\n",
        "\"LSTM\" (Long Short-Term Memory) adalah kelas yang digunakan untuk membuat lapisan LSTM pada model neural network. Lapisan LSTM merupakan lapisan yang khusus dibuat untuk menangani data time series dan mampu mengingat informasi yang relevan dari waktu yang lalu."
      ],
      "metadata": {
        "id": "zP36XTzgdQIp"
      }
    },
    {
      "cell_type": "code",
      "source": [
        "# define model\n",
        "model = Sequential()\n",
        "model.add(LSTM(100, activation='relu', input_shape=(n_input, n_features)))\n",
        "model.add(Dense(1))\n",
        "model.compile(optimizer='adam', loss='mse')"
      ],
      "metadata": {
        "id": "CPcOOi7Hc75k"
      },
      "execution_count": 39,
      "outputs": []
    },
    {
      "cell_type": "code",
      "source": [
        "model.summary()"
      ],
      "metadata": {
        "colab": {
          "base_uri": "https://localhost:8080/"
        },
        "id": "nShSstS_dsCL",
        "outputId": "8214fd77-108b-4480-eb92-37760691307e"
      },
      "execution_count": 40,
      "outputs": [
        {
          "output_type": "stream",
          "name": "stdout",
          "text": [
            "Model: \"sequential\"\n",
            "_________________________________________________________________\n",
            " Layer (type)                Output Shape              Param #   \n",
            "=================================================================\n",
            " lstm (LSTM)                 (None, 100)               40800     \n",
            "                                                                 \n",
            " dense (Dense)               (None, 1)                 101       \n",
            "                                                                 \n",
            "=================================================================\n",
            "Total params: 40,901\n",
            "Trainable params: 40,901\n",
            "Non-trainable params: 0\n",
            "_________________________________________________________________\n"
          ]
        }
      ]
    },
    {
      "cell_type": "markdown",
      "source": [
        "Kode di atas akan membuat model neural network yang terdiri dari lapisan LSTM dan lapisan dense.\n",
        "\n",
        "Pertama, model akan dibuat dengan menggunakan kelas \"Sequential\".\n",
        "Kemudian, lapisan LSTM akan ditambahkan ke dalam model dengan menggunakan method \"add()\". Lapisan ini akan menerima input dengan shape (n_input, n_features) dan mengeluarkan output dengan shape (units,). Fungsi aktivasi yang digunakan adalah \"relu\".\n",
        "\n",
        "Setelah itu, lapisan dense akan ditambahkan ke dalam model dengan menggunakan method \"add()\". Lapisan ini akan menerima input dari lapisan sebelumnya dan mengeluarkan output dengan shape (units,).\n",
        "\n",
        "Terakhir, model akan dikompilasi dengan menentukan optimizer dan loss function yang akan digunakan. Dalam contoh di atas, optimizer yang digunakan adalah \"adam\" dan loss function yang digunakan adalah \"mean squared error\" atau \"mse\"."
      ],
      "metadata": {
        "id": "ogjfgamNdjvV"
      }
    },
    {
      "cell_type": "code",
      "source": [
        "# fit model dengan epoch 30\n",
        "model.fit(generator,epochs=30)"
      ],
      "metadata": {
        "colab": {
          "base_uri": "https://localhost:8080/"
        },
        "id": "NtkEbry6dzAU",
        "outputId": "aaca454b-9791-4af8-c56b-f15c7d9b7b79"
      },
      "execution_count": 44,
      "outputs": [
        {
          "output_type": "stream",
          "name": "stdout",
          "text": [
            "Epoch 1/30\n",
            "144/144 [==============================] - 2s 13ms/step - loss: 0.0025\n",
            "Epoch 2/30\n",
            "144/144 [==============================] - 1s 7ms/step - loss: 0.0025\n",
            "Epoch 3/30\n",
            "144/144 [==============================] - 1s 7ms/step - loss: 0.0027\n",
            "Epoch 4/30\n",
            "144/144 [==============================] - 1s 7ms/step - loss: 0.0022\n",
            "Epoch 5/30\n",
            "144/144 [==============================] - 1s 7ms/step - loss: 0.0021\n",
            "Epoch 6/30\n",
            "144/144 [==============================] - 1s 7ms/step - loss: 0.0023\n",
            "Epoch 7/30\n",
            "144/144 [==============================] - 1s 7ms/step - loss: 0.0023\n",
            "Epoch 8/30\n",
            "144/144 [==============================] - 1s 8ms/step - loss: 0.0023\n",
            "Epoch 9/30\n",
            "144/144 [==============================] - 1s 7ms/step - loss: 0.0022\n",
            "Epoch 10/30\n",
            "144/144 [==============================] - 1s 8ms/step - loss: 0.0023\n",
            "Epoch 11/30\n",
            "144/144 [==============================] - 1s 8ms/step - loss: 0.0021\n",
            "Epoch 12/30\n",
            "144/144 [==============================] - 1s 8ms/step - loss: 0.0028\n",
            "Epoch 13/30\n",
            "144/144 [==============================] - 1s 8ms/step - loss: 0.0026\n",
            "Epoch 14/30\n",
            "144/144 [==============================] - 1s 8ms/step - loss: 0.0018\n",
            "Epoch 15/30\n",
            "144/144 [==============================] - 1s 8ms/step - loss: 0.0023\n",
            "Epoch 16/30\n",
            "144/144 [==============================] - 1s 7ms/step - loss: 0.0022\n",
            "Epoch 17/30\n",
            "144/144 [==============================] - 1s 8ms/step - loss: 0.0022\n",
            "Epoch 18/30\n",
            "144/144 [==============================] - 1s 8ms/step - loss: 0.0023\n",
            "Epoch 19/30\n",
            "144/144 [==============================] - 1s 8ms/step - loss: 0.0022\n",
            "Epoch 20/30\n",
            "144/144 [==============================] - 1s 8ms/step - loss: 0.0018\n",
            "Epoch 21/30\n",
            "144/144 [==============================] - 1s 8ms/step - loss: 0.0021\n",
            "Epoch 22/30\n",
            "144/144 [==============================] - 1s 8ms/step - loss: 0.0021\n",
            "Epoch 23/30\n",
            "144/144 [==============================] - 1s 8ms/step - loss: 0.0021\n",
            "Epoch 24/30\n",
            "144/144 [==============================] - 1s 7ms/step - loss: 0.0017\n",
            "Epoch 25/30\n",
            "144/144 [==============================] - 1s 8ms/step - loss: 0.0020\n",
            "Epoch 26/30\n",
            "144/144 [==============================] - 1s 7ms/step - loss: 0.0023\n",
            "Epoch 27/30\n",
            "144/144 [==============================] - 1s 7ms/step - loss: 0.0020\n",
            "Epoch 28/30\n",
            "144/144 [==============================] - 1s 7ms/step - loss: 0.0017\n",
            "Epoch 29/30\n",
            "144/144 [==============================] - 1s 7ms/step - loss: 0.0018\n",
            "Epoch 30/30\n",
            "144/144 [==============================] - 1s 7ms/step - loss: 0.0017\n"
          ]
        },
        {
          "output_type": "execute_result",
          "data": {
            "text/plain": [
              "<keras.callbacks.History at 0x7fe49d559670>"
            ]
          },
          "metadata": {},
          "execution_count": 44
        }
      ]
    },
    {
      "cell_type": "code",
      "source": [
        "# melakukan evaluasi data eposch 30\n",
        "loss_per_epoch = model.history.history['loss']\n",
        "plt.figure(figsize=(10,6))\n",
        "plt.plot(range(len(loss_per_epoch)),loss_per_epoch, label='data loss')\n",
        "plt.grid(), plt.legend(), plt.show()"
      ],
      "metadata": {
        "colab": {
          "base_uri": "https://localhost:8080/",
          "height": 391
        },
        "id": "xd5RD5aGe8rd",
        "outputId": "12efaff8-329c-4a4f-f64a-8b36b7776935"
      },
      "execution_count": 48,
      "outputs": [
        {
          "output_type": "display_data",
          "data": {
            "text/plain": [
              "<Figure size 720x432 with 1 Axes>"
            ],
            "image/png": "[encoded data removed]"
          },
          "metadata": {
            "needs_background": "light"
          }
        },
        {
          "output_type": "execute_result",
          "data": {
            "text/plain": [
              "(None, <matplotlib.legend.Legend at 0x7fe43d3325b0>, None)"
            ]
          },
          "metadata": {},
          "execution_count": 48
        }
      ]
    },
    {
      "cell_type": "code",
      "source": [
        "last_train_batch = scaled_train[-12:]"
      ],
      "metadata": {
        "id": "kGLMBLaZfNJv"
      },
      "execution_count": 49,
      "outputs": []
    },
    {
      "cell_type": "markdown",
      "source": [
        "**penjelasan**\n",
        "\n",
        "Kode di atas akan membuat sebuah variabel \"last_train_batch\" yang berisi data terakhir dari \"scaled_train\" sebanyak 12 data.\n",
        "\n",
        "Pertama, indeks terakhir dari \"scaled_train\" akan ditentukan dengan menggunakan \"-12\".\n",
        "Kemudian, data dari indeks tersebut sampai dengan indeks terakhir akan dipilih dan disimpan ke dalam variabel \"last_train_batch\".\n",
        "\n",
        "Variabel \"last_train_batch\" dapat digunakan untuk berbagai keperluan, misalnya untuk memprediksi data terakhir dari time series dengan menggunakan model yang telah terlatih sebelumnya."
      ],
      "metadata": {
        "id": "x5IDiq6Dqq7b"
      }
    },
    {
      "cell_type": "code",
      "source": [
        "last_train_batch = last_train_batch.reshape((1, n_input, n_features))\n",
        "model.predict(last_train_batch)"
      ],
      "metadata": {
        "colab": {
          "base_uri": "https://localhost:8080/"
        },
        "id": "rXsxykqGf974",
        "outputId": "770d4f94-23c3-4bc3-eaa0-bb0524dd5287"
      },
      "execution_count": 52,
      "outputs": [
        {
          "output_type": "stream",
          "name": "stdout",
          "text": [
            "1/1 [==============================] - 0s 21ms/step\n"
          ]
        },
        {
          "output_type": "execute_result",
          "data": {
            "text/plain": [
              "array([[0.6415949]], dtype=float32)"
            ]
          },
          "metadata": {},
          "execution_count": 52
        }
      ]
    },
    {
      "cell_type": "markdown",
      "source": [
        "**penjelasan**\n",
        "\n",
        "Kode di atas akan memprediksi data terakhir dari time series dengan menggunakan model yang telah terlatih sebelumnya.\n",
        "\n",
        "Pertama, variabel \"last_train_batch\" akan diubah bentuknya dengan menggunakan method \"reshape()\". Variabel tersebut akan diubah menjadi bentuk 3D array dengan jumlah baris sebanyak 1, jumlah kolom sebanyak \"n_input\", dan jumlah fitur sebanyak \"n_features\".\n",
        "Kemudian, method \"predict()\" akan dipanggil pada model yang telah dibuat sebelumnya dengan \"last_train_batch\" sebagai masukannya. Hasil dari method tersebut adalah nilai yang diprediksi oleh model untuk data terakhir dari time series."
      ],
      "metadata": {
        "id": "qXseA2z-rMbk"
      }
    },
    {
      "cell_type": "code",
      "source": [
        "scaled_test[0]"
      ],
      "metadata": {
        "colab": {
          "base_uri": "https://localhost:8080/"
        },
        "id": "6AHaltBmgDQI",
        "outputId": "79cb3ec8-7542-4992-83e3-621c72299a31"
      },
      "execution_count": 53,
      "outputs": [
        {
          "output_type": "execute_result",
          "data": {
            "text/plain": [
              "array([0.67548077])"
            ]
          },
          "metadata": {},
          "execution_count": 53
        }
      ]
    },
    {
      "cell_type": "code",
      "source": [
        "test_predictions = []\n",
        "\n",
        "first_eval_batch = scaled_train[-n_input:]\n",
        "current_batch = first_eval_batch.reshape((1, n_input, n_features))\n",
        "\n",
        "for i in range(len(test)):\n",
        "    \n",
        "    # get the prediction value for the first batch\n",
        "    current_pred = model.predict(current_batch)[0]\n",
        "    \n",
        "    # append the prediction into the array\n",
        "    test_predictions.append(current_pred) \n",
        "    \n",
        "    # use the prediction to update the batch and remove the first value\n",
        "    current_batch = np.append(current_batch[:,1:,:],[[current_pred]],axis=1)"
      ],
      "metadata": {
        "colab": {
          "base_uri": "https://localhost:8080/"
        },
        "id": "x-dcmXHPgDXR",
        "outputId": "95f102f9-baf8-4b1c-9ac9-d673d77ddd5d"
      },
      "execution_count": 54,
      "outputs": [
        {
          "output_type": "stream",
          "name": "stdout",
          "text": [
            "1/1 [==============================] - 0s 25ms/step\n",
            "1/1 [==============================] - 0s 24ms/step\n",
            "1/1 [==============================] - 0s 19ms/step\n",
            "1/1 [==============================] - 0s 19ms/step\n",
            "1/1 [==============================] - 0s 24ms/step\n",
            "1/1 [==============================] - 0s 23ms/step\n",
            "1/1 [==============================] - 0s 19ms/step\n",
            "1/1 [==============================] - 0s 22ms/step\n",
            "1/1 [==============================] - 0s 22ms/step\n",
            "1/1 [==============================] - 0s 23ms/step\n",
            "1/1 [==============================] - 0s 20ms/step\n",
            "1/1 [==============================] - 0s 21ms/step\n"
          ]
        }
      ]
    },
    {
      "cell_type": "markdown",
      "source": [
        "**penjelasan**\n",
        "\n",
        "Kode di atas akan memprediksi seluruh data pada data test dengan menggunakan model yang telah terlatih sebelumnya.\n",
        "\n",
        "Pertama, sebuah array kosong bernama \"test_predictions\" akan dibuat untuk menyimpan hasil prediksi yang dihasilkan.\n",
        "\n",
        "Kemudian, sebuah batch data pertama akan dibuat dari data terakhir dari \"scaled_train\" sebanyak \"n_input\" data. Batch tersebut akan disimpan ke dalam variabel \"first_eval_batch\" dan kemudian diubah bentuknya menjadi 3D array.\n",
        "\n",
        "Selanjutnya, loop akan dilakukan sebanyak jumlah data pada \"test\". Pada setiap iterasi, model akan dipanggil dengan menggunakan \"current_batch\" sebagai masukannya. Hasil dari method \"predict()\" akan disimpan ke dalam \"current_pred\".\n",
        "\n",
        "Kemudian, \"current_pred\" akan ditambahkan ke dalam array \"test_predictions\".\n",
        "\n",
        "Terakhir, \"current_batch\" akan diupdate dengan menambahkan \"current_pred\" pada indeks terakhir dari \"current_batch\" dan menghapus data pada indeks pertama.\n",
        "\n",
        "Setelah loop selesai dilakukan, array \"test_predictions\" akan berisi seluruh hasil prediksi yang dihasilkan dari data test. \n",
        "\n",
        "Anda dapat mengevaluasi hasil prediksi tersebut dengan membandingkannya dengan nilai sebenarnya dari data test."
      ],
      "metadata": {
        "id": "2OJ2iqvrriBm"
      }
    },
    {
      "cell_type": "code",
      "source": [
        "test_predictions"
      ],
      "metadata": {
        "colab": {
          "base_uri": "https://localhost:8080/"
        },
        "id": "IossTUQ8gKCN",
        "outputId": "bd856192-c9b6-4074-b15f-e8686afa9a63"
      },
      "execution_count": 55,
      "outputs": [
        {
          "output_type": "execute_result",
          "data": {
            "text/plain": [
              "[array([0.6415949], dtype=float32),\n",
              " array([0.58512676], dtype=float32),\n",
              " array([0.77940714], dtype=float32),\n",
              " array([0.8386445], dtype=float32),\n",
              " array([0.9547914], dtype=float32),\n",
              " array([0.93310535], dtype=float32),\n",
              " array([0.86108536], dtype=float32),\n",
              " array([0.7695281], dtype=float32),\n",
              " array([0.6591393], dtype=float32),\n",
              " array([0.62950146], dtype=float32),\n",
              " array([0.5642104], dtype=float32),\n",
              " array([0.6148157], dtype=float32)]"
            ]
          },
          "metadata": {},
          "execution_count": 55
        }
      ]
    },
    {
      "cell_type": "code",
      "source": [
        "test.head(12)"
      ],
      "metadata": {
        "colab": {
          "base_uri": "https://localhost:8080/",
          "height": 457
        },
        "id": "4vmhr5JogNqe",
        "outputId": "1735d8df-dd16-46b7-f95f-3b2d11e6d60a"
      },
      "execution_count": 64,
      "outputs": [
        {
          "output_type": "execute_result",
          "data": {
            "text/plain": [
              "            Production  Predictions\n",
              "Date                               \n",
              "1975-01-01         834   819.903473\n",
              "1975-02-01         782   796.412731\n",
              "1975-03-01         892   877.233372\n",
              "1975-04-01         903   901.876114\n",
              "1975-05-01         966   950.193233\n",
              "1975-06-01         937   941.171825\n",
              "1975-07-01         896   911.211508\n",
              "1975-08-01         858   873.123686\n",
              "1975-09-01         817   827.201939\n",
              "1975-10-01         827   814.872608\n",
              "1975-11-01         797   787.711533\n",
              "1975-12-01         843   808.763336"
            ],
            "text/html": [
              "\n",
              "  <div id=\"df-e326965b-3315-4453-88d3-45120a612403\">\n",
              "    <div class=\"colab-df-container\">\n",
              "      <div>\n",
              "<style scoped>\n",
              "    .dataframe tbody tr th:only-of-type {\n",
              "        vertical-align: middle;\n",
              "    }\n",
              "\n",
              "    .dataframe tbody tr th {\n",
              "        vertical-align: top;\n",
              "    }\n",
              "\n",
              "    .dataframe thead th {\n",
              "        text-align: right;\n",
              "    }\n",
              "</style>\n",
              "<table border=\"1\" class=\"dataframe\">\n",
              "  <thead>\n",
              "    <tr style=\"text-align: right;\">\n",
              "      <th></th>\n",
              "      <th>Production</th>\n",
              "      <th>Predictions</th>\n",
              "    </tr>\n",
              "    <tr>\n",
              "      <th>Date</th>\n",
              "      <th></th>\n",
              "      <th></th>\n",
              "    </tr>\n",
              "  </thead>\n",
              "  <tbody>\n",
              "    <tr>\n",
              "      <th>1975-01-01</th>\n",
              "      <td>834</td>\n",
              "      <td>819.903473</td>\n",
              "    </tr>\n",
              "    <tr>\n",
              "      <th>1975-02-01</th>\n",
              "      <td>782</td>\n",
              "      <td>796.412731</td>\n",
              "    </tr>\n",
              "    <tr>\n",
              "      <th>1975-03-01</th>\n",
              "      <td>892</td>\n",
              "      <td>877.233372</td>\n",
              "    </tr>\n",
              "    <tr>\n",
              "      <th>1975-04-01</th>\n",
              "      <td>903</td>\n",
              "      <td>901.876114</td>\n",
              "    </tr>\n",
              "    <tr>\n",
              "      <th>1975-05-01</th>\n",
              "      <td>966</td>\n",
              "      <td>950.193233</td>\n",
              "    </tr>\n",
              "    <tr>\n",
              "      <th>1975-06-01</th>\n",
              "      <td>937</td>\n",
              "      <td>941.171825</td>\n",
              "    </tr>\n",
              "    <tr>\n",
              "      <th>1975-07-01</th>\n",
              "      <td>896</td>\n",
              "      <td>911.211508</td>\n",
              "    </tr>\n",
              "    <tr>\n",
              "      <th>1975-08-01</th>\n",
              "      <td>858</td>\n",
              "      <td>873.123686</td>\n",
              "    </tr>\n",
              "    <tr>\n",
              "      <th>1975-09-01</th>\n",
              "      <td>817</td>\n",
              "      <td>827.201939</td>\n",
              "    </tr>\n",
              "    <tr>\n",
              "      <th>1975-10-01</th>\n",
              "      <td>827</td>\n",
              "      <td>814.872608</td>\n",
              "    </tr>\n",
              "    <tr>\n",
              "      <th>1975-11-01</th>\n",
              "      <td>797</td>\n",
              "      <td>787.711533</td>\n",
              "    </tr>\n",
              "    <tr>\n",
              "      <th>1975-12-01</th>\n",
              "      <td>843</td>\n",
              "      <td>808.763336</td>\n",
              "    </tr>\n",
              "  </tbody>\n",
              "</table>\n",
              "</div>\n",
              "      <button class=\"colab-df-convert\" onclick=\"convertToInteractive('df-e326965b-3315-4453-88d3-45120a612403')\"\n",
              "              title=\"Convert this dataframe to an interactive table.\"\n",
              "              style=\"display:none;\">\n",
              "        \n",
              "  <svg xmlns=\"http://www.w3.org/2000/svg\" height=\"24px\"viewBox=\"0 0 24 24\"\n",
              "       width=\"24px\">\n",
              "    <path d=\"M0 0h24v24H0V0z\" fill=\"none\"/>\n",
              "    <path d=\"M18.56 5.44l.94 2.06.94-2.06 2.06-.94-2.06-.94-.94-2.06-.94 2.06-2.06.94zm-11 1L8.5 8.5l.94-2.06 2.06-.94-2.06-.94L8.5 2.5l-.94 2.06-2.06.94zm10 10l.94 2.06.94-2.06 2.06-.94-2.06-.94-.94-2.06-.94 2.06-2.06.94z\"/><path d=\"M17.41 7.96l-1.37-1.37c-.4-.4-.92-.59-1.43-.59-.52 0-1.04.2-1.43.59L10.3 9.45l-7.72 7.72c-.78.78-.78 2.05 0 2.83L4 21.41c.39.39.9.59 1.41.59.51 0 1.02-.2 1.41-.59l7.78-7.78 2.81-2.81c.8-.78.8-2.07 0-2.86zM5.41 20L4 18.59l7.72-7.72 1.47 1.35L5.41 20z\"/>\n",
              "  </svg>\n",
              "      </button>\n",
              "      \n",
              "  <style>\n",
              "    .colab-df-container {\n",
              "      display:flex;\n",
              "      flex-wrap:wrap;\n",
              "      gap: 12px;\n",
              "    }\n",
              "\n",
              "    .colab-df-convert {\n",
              "      background-color: #E8F0FE;\n",
              "      border: none;\n",
              "      border-radius: 50%;\n",
              "      cursor: pointer;\n",
              "      display: none;\n",
              "      fill: #1967D2;\n",
              "      height: 32px;\n",
              "      padding: 0 0 0 0;\n",
              "      width: 32px;\n",
              "    }\n",
              "\n",
              "    .colab-df-convert:hover {\n",
              "      background-color: #E2EBFA;\n",
              "      box-shadow: 0px 1px 2px rgba(60, 64, 67, 0.3), 0px 1px 3px 1px rgba(60, 64, 67, 0.15);\n",
              "      fill: #174EA6;\n",
              "    }\n",
              "\n",
              "    [theme=dark] .colab-df-convert {\n",
              "      background-color: #3B4455;\n",
              "      fill: #D2E3FC;\n",
              "    }\n",
              "\n",
              "    [theme=dark] .colab-df-convert:hover {\n",
              "      background-color: #434B5C;\n",
              "      box-shadow: 0px 1px 3px 1px rgba(0, 0, 0, 0.15);\n",
              "      filter: drop-shadow(0px 1px 2px rgba(0, 0, 0, 0.3));\n",
              "      fill: #FFFFFF;\n",
              "    }\n",
              "  </style>\n",
              "\n",
              "      <script>\n",
              "        const buttonEl =\n",
              "          document.querySelector('#df-e326965b-3315-4453-88d3-45120a612403 button.colab-df-convert');\n",
              "        buttonEl.style.display =\n",
              "          google.colab.kernel.accessAllowed ? 'block' : 'none';\n",
              "\n",
              "        async function convertToInteractive(key) {\n",
              "          const element = document.querySelector('#df-e326965b-3315-4453-88d3-45120a612403');\n",
              "          const dataTable =\n",
              "            await google.colab.kernel.invokeFunction('convertToInteractive',\n",
              "                                                     [key], {});\n",
              "          if (!dataTable) return;\n",
              "\n",
              "          const docLinkHtml = 'Like what you see? Visit the ' +\n",
              "            '<a target=\"_blank\" href=https://colab.research.google.com/notebooks/data_table.ipynb>data table notebook</a>'\n",
              "            + ' to learn more about interactive tables.';\n",
              "          element.innerHTML = '';\n",
              "          dataTable['output_type'] = 'display_data';\n",
              "          await google.colab.output.renderOutput(dataTable, element);\n",
              "          const docLink = document.createElement('div');\n",
              "          docLink.innerHTML = docLinkHtml;\n",
              "          element.appendChild(docLink);\n",
              "        }\n",
              "      </script>\n",
              "    </div>\n",
              "  </div>\n",
              "  "
            ]
          },
          "metadata": {},
          "execution_count": 64
        }
      ]
    },
    {
      "cell_type": "code",
      "source": [
        "true_predictions = scaler.inverse_transform(test_predictions)\n",
        "     \n",
        "test['Predictions'] = true_predictions\n",
        "     \n",
        "test.plot(figsize=(14,5))"
      ],
      "metadata": {
        "colab": {
          "base_uri": "https://localhost:8080/",
          "height": 491
        },
        "id": "a-UWG3BKgR-L",
        "outputId": "cf154545-3cc2-4a54-dcac-ebc070e62bc6"
      },
      "execution_count": 57,
      "outputs": [
        {
          "output_type": "stream",
          "name": "stderr",
          "text": [
            "<ipython-input-57-b567fdf24794>:3: SettingWithCopyWarning: \n",
            "A value is trying to be set on a copy of a slice from a DataFrame.\n",
            "Try using .loc[row_indexer,col_indexer] = value instead\n",
            "\n",
            "See the caveats in the documentation: https://pandas.pydata.org/pandas-docs/stable/user_guide/indexing.html#returning-a-view-versus-a-copy\n",
            "  test['Predictions'] = true_predictions\n"
          ]
        },
        {
          "output_type": "execute_result",
          "data": {
            "text/plain": [
              "<matplotlib.axes._subplots.AxesSubplot at 0x7fe43ebd0b20>"
            ]
          },
          "metadata": {},
          "execution_count": 57
        },
        {
          "output_type": "display_data",
          "data": {
            "text/plain": [
              "<Figure size 1008x360 with 1 Axes>"
            ],
            "image/png": "[encoded data removed]"
          },
          "metadata": {
            "needs_background": "light"
          }
        }
      ]
    },
    {
      "cell_type": "code",
      "source": [
        "from sklearn.metrics import mean_squared_error\n",
        "from math import sqrt\n",
        "rmse=sqrt(mean_squared_error(test['Production'],test['Predictions']))\n",
        "print(rmse)\n",
        "     "
      ],
      "metadata": {
        "colab": {
          "base_uri": "https://localhost:8080/"
        },
        "id": "vePwaP7EsS3s",
        "outputId": "5ee18ecd-f1dc-4683-ad63-bfc4f157862c"
      },
      "execution_count": 58,
      "outputs": [
        {
          "output_type": "stream",
          "name": "stdout",
          "text": [
            "15.445352925984826\n"
          ]
        }
      ]
    },
    {
      "cell_type": "markdown",
      "source": [
        "# **EVALUASI PROGRAM**\n",
        "\n",
        "karena skor RMSE masih besar jadi saya melakukan evaluasi dengan mengubah metode pembagian data menjadi 80 : 20. Hal ini berjutuan untuk melihat perbedaanya juga mencari skor RMSE terkecil."
      ],
      "metadata": {
        "id": "mmmBKB9FtOtN"
      }
    },
    {
      "cell_type": "markdown",
      "source": [
        "# **Spliting Data (2) 80:20**"
      ],
      "metadata": {
        "id": "8zW3I2JDL25D"
      }
    },
    {
      "cell_type": "code",
      "source": [
        "len(df)"
      ],
      "metadata": {
        "colab": {
          "base_uri": "https://localhost:8080/"
        },
        "id": "VpCREYS0tTRk",
        "outputId": "db51710d-3b1f-42b6-afb2-3e3fb47147d2"
      },
      "execution_count": 9,
      "outputs": [
        {
          "output_type": "execute_result",
          "data": {
            "text/plain": [
              "168"
            ]
          },
          "metadata": {},
          "execution_count": 9
        }
      ]
    },
    {
      "cell_type": "markdown",
      "source": [
        "saya menggambil 80% dari data 168 yaitu 134.4 sebagai training dan sisanya sebagai testing."
      ],
      "metadata": {
        "id": "q2pb3HTLuLY7"
      }
    },
    {
      "cell_type": "code",
      "source": [
        "# spliting data\n",
        "from sklearn.model_selection import train_test_split\n",
        "\n",
        "X = df.drop(columns='Production')  # Data input\n",
        "y = df['Production']  # Data target\n",
        "\n",
        "X_train, X_test, y_train, y_test = train_test_split(X, y, test_size=0.2, random_state=42)"
      ],
      "metadata": {
        "id": "6EVZH_FYub2q"
      },
      "execution_count": 10,
      "outputs": []
    },
    {
      "cell_type": "markdown",
      "source": [
        "**penjelasan**\n",
        "\n",
        "Di sini, X adalah data input (semua kolom selain kolom 'Production'), dan y adalah data target (kolom 'Production'). Kemudian, kita membagi data menjadi data training dan data testing dengan menggunakan fungsi train_test_split(), dengan test_size=0.2 menunjukkan bahwa kita ingin membagi data menjadi proporsi 80:20 (80% data training dan 20% data testing). Nilai random_state=42 akan menentukan hasil pembagian data secara acak, sehingga Anda akan mendapatkan hasil yang sama jika Anda menjalankan kode tersebut berulang-ulang.\n",
        "\n",
        "Setelah proses pembagian data selesai, Anda akan mendapatkan empat variabel baru: X_train yang berisi data input untuk data training, X_test yang berisi data input untuk data testing, y_train yang berisi data target untuk data training, dan y_test yang berisi data target untuk data testing. Anda dapat menggunakan variabel-variabel tersebut untuk melakukan pelatihan model dan evaluasi model dengan data yang sesuai."
      ],
      "metadata": {
        "id": "qLp1SRCRwNTX"
      }
    },
    {
      "cell_type": "code",
      "source": [
        "train = df.iloc[:134]\n",
        "test = df.iloc[134:]"
      ],
      "metadata": {
        "id": "gd7_L6t4HaIW"
      },
      "execution_count": 38,
      "outputs": []
    },
    {
      "cell_type": "code",
      "source": [
        "# Menentukan nama-nama data dan jumlah data\n",
        "data_names = ['Training', 'Testing']\n",
        "data_counts = [len(train), len(test)]\n",
        "\n",
        "# Menampilkan grafik\n",
        "plt.figure(figsize=(10, 5))\n",
        "plt.bar(data_names[0], data_counts[0], color='orange')\n",
        "plt.bar(data_names[1], data_counts[1], color='purple')\n",
        "plt.title('Data Distribution')\n",
        "plt.xlabel('Dates')\n",
        "plt.ylabel('Production')\n",
        "plt.grid()\n",
        "plt.show()"
      ],
      "metadata": {
        "colab": {
          "base_uri": "https://localhost:8080/",
          "height": 350
        },
        "id": "5sqqpVI_IMsV",
        "outputId": "e5410bd3-c22c-4e24-c82f-88f918bcf88b"
      },
      "execution_count": 41,
      "outputs": [
        {
          "output_type": "display_data",
          "data": {
            "text/plain": [
              "<Figure size 720x360 with 1 Axes>"
            ],
            "image/png": "[encoded data removed]"
          },
          "metadata": {
            "needs_background": "light"
          }
        }
      ]
    },
    {
      "cell_type": "markdown",
      "source": [
        "Melakukan sclaer data menggunakan minmaxsclaer"
      ],
      "metadata": {
        "id": "mUVGYJGqDp0R"
      }
    },
    {
      "cell_type": "code",
      "source": [
        "from sklearn.preprocessing import MinMaxScaler\n",
        "scaler = MinMaxScaler()\n",
        "scaler.fit(train)\n",
        "scaled_train = scaler.transform(train)\n",
        "scaled_test = scaler.transform(test)"
      ],
      "metadata": {
        "id": "odwfkA72DxCl"
      },
      "execution_count": 42,
      "outputs": []
    },
    {
      "cell_type": "code",
      "source": [
        "scaled_train[:10]"
      ],
      "metadata": {
        "colab": {
          "base_uri": "https://localhost:8080/"
        },
        "id": "AYjn0ikKKXQT",
        "outputId": "bc7bd6fe-72ad-4045-f745-e12622dff67e"
      },
      "execution_count": 52,
      "outputs": [
        {
          "output_type": "execute_result",
          "data": {
            "text/plain": [
              "array([[0.08823529],\n",
              "       [0.01960784],\n",
              "       [0.21323529],\n",
              "       [0.25245098],\n",
              "       [0.42647059],\n",
              "       [0.35294118],\n",
              "       [0.21323529],\n",
              "       [0.1127451 ],\n",
              "       [0.03676471],\n",
              "       [0.05882353]])"
            ]
          },
          "metadata": {},
          "execution_count": 52
        }
      ]
    },
    {
      "cell_type": "markdown",
      "source": [
        "Membuat TimesGenerator guna untuk membuat batch sebagai inputan untuk dep learning."
      ],
      "metadata": {
        "id": "KzB7IGAkKgxZ"
      }
    },
    {
      "cell_type": "code",
      "source": [
        "from keras.preprocessing.sequence  import TimeseriesGenerator\n",
        "\n",
        "# define generator\n",
        "n_input = 3\n",
        "n_features = 1\n",
        "generator = TimeseriesGenerator(scaled_train, scaled_train, length=n_input, batch_size=1)\n",
        "\n",
        "X,y = generator[0]\n",
        "print(f'Given the Array: \\n{X.flatten()}')\n",
        "print(f'Predict this y: \\n {y}')"
      ],
      "metadata": {
        "colab": {
          "base_uri": "https://localhost:8080/"
        },
        "id": "OoNGPgGcKeaC",
        "outputId": "fbf1b0f4-6959-4cc2-afe1-011502402dd7"
      },
      "execution_count": 56,
      "outputs": [
        {
          "output_type": "stream",
          "name": "stdout",
          "text": [
            "Given the Array: \n",
            "[0.08823529 0.01960784 0.21323529]\n",
            "Predict this y: \n",
            " [[0.25245098]]\n"
          ]
        }
      ]
    },
    {
      "cell_type": "code",
      "source": [
        "# We do the same thing, but now instead for 12 months\n",
        "n_input = 12\n",
        "generator = TimeseriesGenerator(scaled_train, scaled_train, length=n_input, batch_size=1)"
      ],
      "metadata": {
        "id": "O0IiUKiaLyPU"
      },
      "execution_count": 57,
      "outputs": []
    },
    {
      "cell_type": "markdown",
      "source": [
        "# **Create Model**"
      ],
      "metadata": {
        "id": "YoTdgODdPf5w"
      }
    },
    {
      "cell_type": "code",
      "source": [
        "from keras.models import Sequential\n",
        "from keras.layers import Dense\n",
        "from keras.layers import LSTM"
      ],
      "metadata": {
        "id": "pr2yCyunPjYg"
      },
      "execution_count": 58,
      "outputs": []
    },
    {
      "cell_type": "code",
      "source": [
        "# define model\n",
        "model = Sequential()\n",
        "model.add(LSTM(100, activation='relu', input_shape=(n_input, n_features)))\n",
        "model.add(Dense(1))\n",
        "model.compile(optimizer='adam', loss='mse')"
      ],
      "metadata": {
        "id": "7XO1J1TnPl_B"
      },
      "execution_count": 59,
      "outputs": []
    },
    {
      "cell_type": "code",
      "source": [
        "model.summary()"
      ],
      "metadata": {
        "colab": {
          "base_uri": "https://localhost:8080/"
        },
        "id": "yWrPP2jtPsyX",
        "outputId": "36d8302f-c2d0-425f-bc50-f2c6e99c0d75"
      },
      "execution_count": 60,
      "outputs": [
        {
          "output_type": "stream",
          "name": "stdout",
          "text": [
            "Model: \"sequential\"\n",
            "_________________________________________________________________\n",
            " Layer (type)                Output Shape              Param #   \n",
            "=================================================================\n",
            " lstm (LSTM)                 (None, 100)               40800     \n",
            "                                                                 \n",
            " dense (Dense)               (None, 1)                 101       \n",
            "                                                                 \n",
            "=================================================================\n",
            "Total params: 40,901\n",
            "Trainable params: 40,901\n",
            "Non-trainable params: 0\n",
            "_________________________________________________________________\n"
          ]
        }
      ]
    },
    {
      "cell_type": "code",
      "source": [
        "# fit model with 50 epochs\n",
        "model.fit(generator,epochs=50)"
      ],
      "metadata": {
        "colab": {
          "base_uri": "https://localhost:8080/"
        },
        "id": "FWJohmb2Pyz9",
        "outputId": "095e3ee3-6692-4081-d1e4-80b4ed4a468a"
      },
      "execution_count": 61,
      "outputs": [
        {
          "output_type": "stream",
          "name": "stdout",
          "text": [
            "Epoch 1/50\n",
            "122/122 [==============================] - 3s 8ms/step - loss: 0.0493\n",
            "Epoch 2/50\n",
            "122/122 [==============================] - 1s 11ms/step - loss: 0.0257\n",
            "Epoch 3/50\n",
            "122/122 [==============================] - 1s 11ms/step - loss: 0.0171\n",
            "Epoch 4/50\n",
            "122/122 [==============================] - 1s 7ms/step - loss: 0.0144\n",
            "Epoch 5/50\n",
            "122/122 [==============================] - 1s 8ms/step - loss: 0.0136\n",
            "Epoch 6/50\n",
            "122/122 [==============================] - 1s 8ms/step - loss: 0.0103\n",
            "Epoch 7/50\n",
            "122/122 [==============================] - 1s 7ms/step - loss: 0.0143\n",
            "Epoch 8/50\n",
            "122/122 [==============================] - 1s 7ms/step - loss: 0.0067\n",
            "Epoch 9/50\n",
            "122/122 [==============================] - 1s 8ms/step - loss: 0.0049\n",
            "Epoch 10/50\n",
            "122/122 [==============================] - 1s 8ms/step - loss: 0.0048\n",
            "Epoch 11/50\n",
            "122/122 [==============================] - 1s 7ms/step - loss: 0.0042\n",
            "Epoch 12/50\n",
            "122/122 [==============================] - 2s 19ms/step - loss: 0.0060\n",
            "Epoch 13/50\n",
            "122/122 [==============================] - 1s 11ms/step - loss: 0.0042\n",
            "Epoch 14/50\n",
            "122/122 [==============================] - 1s 7ms/step - loss: 0.0046\n",
            "Epoch 15/50\n",
            "122/122 [==============================] - 1s 7ms/step - loss: 0.0043\n",
            "Epoch 16/50\n",
            "122/122 [==============================] - 1s 8ms/step - loss: 0.0045\n",
            "Epoch 17/50\n",
            "122/122 [==============================] - 1s 7ms/step - loss: 0.0036\n",
            "Epoch 18/50\n",
            "122/122 [==============================] - 1s 7ms/step - loss: 0.0037\n",
            "Epoch 19/50\n",
            "122/122 [==============================] - 1s 8ms/step - loss: 0.0042\n",
            "Epoch 20/50\n",
            "122/122 [==============================] - 1s 7ms/step - loss: 0.0037\n",
            "Epoch 21/50\n",
            "122/122 [==============================] - 1s 8ms/step - loss: 0.0041\n",
            "Epoch 22/50\n",
            "122/122 [==============================] - 1s 7ms/step - loss: 0.0045\n",
            "Epoch 23/50\n",
            "122/122 [==============================] - 1s 8ms/step - loss: 0.0037\n",
            "Epoch 24/50\n",
            "122/122 [==============================] - 1s 7ms/step - loss: 0.0033\n",
            "Epoch 25/50\n",
            "122/122 [==============================] - 1s 8ms/step - loss: 0.0034\n",
            "Epoch 26/50\n",
            "122/122 [==============================] - 1s 7ms/step - loss: 0.0035\n",
            "Epoch 27/50\n",
            "122/122 [==============================] - 1s 7ms/step - loss: 0.0043\n",
            "Epoch 28/50\n",
            "122/122 [==============================] - 1s 7ms/step - loss: 0.0043\n",
            "Epoch 29/50\n",
            "122/122 [==============================] - 1s 7ms/step - loss: 0.0038\n",
            "Epoch 30/50\n",
            "122/122 [==============================] - 1s 8ms/step - loss: 0.0032\n",
            "Epoch 31/50\n",
            "122/122 [==============================] - 1s 8ms/step - loss: 0.0048\n",
            "Epoch 32/50\n",
            "122/122 [==============================] - 1s 7ms/step - loss: 0.0031\n",
            "Epoch 33/50\n",
            "122/122 [==============================] - 1s 7ms/step - loss: 0.0026\n",
            "Epoch 34/50\n",
            "122/122 [==============================] - 1s 7ms/step - loss: 0.0042\n",
            "Epoch 35/50\n",
            "122/122 [==============================] - 1s 8ms/step - loss: 0.0032\n",
            "Epoch 36/50\n",
            "122/122 [==============================] - 1s 7ms/step - loss: 0.0041\n",
            "Epoch 37/50\n",
            "122/122 [==============================] - 1s 8ms/step - loss: 0.0028\n",
            "Epoch 38/50\n",
            "122/122 [==============================] - 1s 8ms/step - loss: 0.0030\n",
            "Epoch 39/50\n",
            "122/122 [==============================] - 1s 8ms/step - loss: 0.0025\n",
            "Epoch 40/50\n",
            "122/122 [==============================] - 1s 7ms/step - loss: 0.0033\n",
            "Epoch 41/50\n",
            "122/122 [==============================] - 1s 7ms/step - loss: 0.0026\n",
            "Epoch 42/50\n",
            "122/122 [==============================] - 1s 8ms/step - loss: 0.0023\n",
            "Epoch 43/50\n",
            "122/122 [==============================] - 1s 7ms/step - loss: 0.0026\n",
            "Epoch 44/50\n",
            "122/122 [==============================] - 1s 7ms/step - loss: 0.0028\n",
            "Epoch 45/50\n",
            "122/122 [==============================] - 1s 7ms/step - loss: 0.0031\n",
            "Epoch 46/50\n",
            "122/122 [==============================] - 1s 7ms/step - loss: 0.0032\n",
            "Epoch 47/50\n",
            "122/122 [==============================] - 1s 7ms/step - loss: 0.0027\n",
            "Epoch 48/50\n",
            "122/122 [==============================] - 1s 7ms/step - loss: 0.0027\n",
            "Epoch 49/50\n",
            "122/122 [==============================] - 1s 7ms/step - loss: 0.0027\n",
            "Epoch 50/50\n",
            "122/122 [==============================] - 1s 7ms/step - loss: 0.0022\n"
          ]
        },
        {
          "output_type": "execute_result",
          "data": {
            "text/plain": [
              "<keras.callbacks.History at 0x7fb9c6778dc0>"
            ]
          },
          "metadata": {},
          "execution_count": 61
        }
      ]
    },
    {
      "cell_type": "code",
      "source": [
        "# ploting grafik loss\n",
        "loss_per_epoch = model.history.history['loss']\n",
        "plt.figure(figsize=(10, 5))\n",
        "plt.plot(range(len(loss_per_epoch)),loss_per_epoch, label='loss', color='Red')\n",
        "plt.title('Grafik loss_per_epoch'), plt.xlabel('Dates'), plt.ylabel('Prediction')\n",
        "plt.legend(), plt.grid(), plt.show()"
      ],
      "metadata": {
        "colab": {
          "base_uri": "https://localhost:8080/",
          "height": 367
        },
        "id": "Mh7ZuAsUQKm_",
        "outputId": "ff3a875e-86ea-4599-93a5-2245205dc6e3"
      },
      "execution_count": 64,
      "outputs": [
        {
          "output_type": "display_data",
          "data": {
            "text/plain": [
              "<Figure size 720x360 with 1 Axes>"
            ],
            "image/png": "[encoded data removed]"
          },
          "metadata": {
            "needs_background": "light"
          }
        },
        {
          "output_type": "execute_result",
          "data": {
            "text/plain": [
              "(<matplotlib.legend.Legend at 0x7fb9c4d111c0>, None, None)"
            ]
          },
          "metadata": {},
          "execution_count": 64
        }
      ]
    },
    {
      "cell_type": "code",
      "source": [
        "last_train_batch = scaled_train[-12:]\n",
        "last_train_batch = last_train_batch.reshape((1, n_input, n_features))\n",
        "model.predict(last_train_batch)"
      ],
      "metadata": {
        "colab": {
          "base_uri": "https://localhost:8080/"
        },
        "id": "PKwsICkiQ-Nv",
        "outputId": "056d224b-f104-485e-a793-8e8bd2f1d3e0"
      },
      "execution_count": 65,
      "outputs": [
        {
          "output_type": "stream",
          "name": "stdout",
          "text": [
            "1/1 [==============================] - 0s 241ms/step\n"
          ]
        },
        {
          "output_type": "execute_result",
          "data": {
            "text/plain": [
              "array([[0.7682454]], dtype=float32)"
            ]
          },
          "metadata": {},
          "execution_count": 65
        }
      ]
    },
    {
      "cell_type": "code",
      "source": [
        "scaled_test[0]"
      ],
      "metadata": {
        "colab": {
          "base_uri": "https://localhost:8080/"
        },
        "id": "hc1oFR-lSp-D",
        "outputId": "17391e13-dce5-477d-f4d3-8a017f783d57"
      },
      "execution_count": 78,
      "outputs": [
        {
          "output_type": "execute_result",
          "data": {
            "text/plain": [
              "array([0.80882353])"
            ]
          },
          "metadata": {},
          "execution_count": 78
        }
      ]
    },
    {
      "cell_type": "code",
      "source": [
        "test_predictions = []\n",
        "\n",
        "first_eval_batch = scaled_train[-n_input:]\n",
        "current_batch = first_eval_batch.reshape((1, n_input, n_features))\n",
        "\n",
        "for i in range(len(test)):\n",
        "    \n",
        "    # get the prediction value for the first batch\n",
        "    current_pred = model.predict(current_batch)[0]\n",
        "    \n",
        "    # append the prediction into the array\n",
        "    test_predictions.append(current_pred) \n",
        "    \n",
        "    # use the prediction to update the batch and remove the first value\n",
        "    current_batch = np.append(current_batch[:,1:,:],[[current_pred]],axis=1)"
      ],
      "metadata": {
        "colab": {
          "base_uri": "https://localhost:8080/"
        },
        "id": "PUsN-FPNREzI",
        "outputId": "123d6600-483f-4438-e943-03f522297775"
      },
      "execution_count": 79,
      "outputs": [
        {
          "output_type": "stream",
          "name": "stdout",
          "text": [
            "1/1 [==============================] - 0s 26ms/step\n",
            "1/1 [==============================] - 0s 24ms/step\n",
            "1/1 [==============================] - 0s 20ms/step\n",
            "1/1 [==============================] - 0s 20ms/step\n",
            "1/1 [==============================] - 0s 22ms/step\n",
            "1/1 [==============================] - 0s 19ms/step\n",
            "1/1 [==============================] - 0s 19ms/step\n",
            "1/1 [==============================] - 0s 25ms/step\n",
            "1/1 [==============================] - 0s 20ms/step\n",
            "1/1 [==============================] - 0s 22ms/step\n",
            "1/1 [==============================] - 0s 25ms/step\n",
            "1/1 [==============================] - 0s 21ms/step\n",
            "1/1 [==============================] - 0s 23ms/step\n",
            "1/1 [==============================] - 0s 20ms/step\n",
            "1/1 [==============================] - 0s 19ms/step\n",
            "1/1 [==============================] - 0s 20ms/step\n",
            "1/1 [==============================] - 0s 27ms/step\n",
            "1/1 [==============================] - 0s 19ms/step\n",
            "1/1 [==============================] - 0s 19ms/step\n",
            "1/1 [==============================] - 0s 21ms/step\n",
            "1/1 [==============================] - 0s 22ms/step\n",
            "1/1 [==============================] - 0s 32ms/step\n",
            "1/1 [==============================] - 0s 21ms/step\n",
            "1/1 [==============================] - 0s 20ms/step\n",
            "1/1 [==============================] - 0s 24ms/step\n",
            "1/1 [==============================] - 0s 24ms/step\n",
            "1/1 [==============================] - 0s 22ms/step\n",
            "1/1 [==============================] - 0s 29ms/step\n",
            "1/1 [==============================] - 0s 19ms/step\n",
            "1/1 [==============================] - 0s 23ms/step\n",
            "1/1 [==============================] - 0s 22ms/step\n",
            "1/1 [==============================] - 0s 24ms/step\n",
            "1/1 [==============================] - 0s 20ms/step\n",
            "1/1 [==============================] - 0s 25ms/step\n"
          ]
        }
      ]
    },
    {
      "cell_type": "code",
      "source": [
        "test_predictions"
      ],
      "metadata": {
        "colab": {
          "base_uri": "https://localhost:8080/"
        },
        "id": "ykQr2nrPRLIv",
        "outputId": "6e41a53e-8596-4cc0-ed04-7ad6980eca6f"
      },
      "execution_count": 80,
      "outputs": [
        {
          "output_type": "execute_result",
          "data": {
            "text/plain": [
              "[array([0.7682454], dtype=float32),\n",
              " array([0.86008], dtype=float32),\n",
              " array([0.94775975], dtype=float32),\n",
              " array([0.92382663], dtype=float32),\n",
              " array([0.8472984], dtype=float32),\n",
              " array([0.7445734], dtype=float32),\n",
              " array([0.66239274], dtype=float32),\n",
              " array([0.6193871], dtype=float32),\n",
              " array([0.58076704], dtype=float32),\n",
              " array([0.61803627], dtype=float32),\n",
              " array([0.6087058], dtype=float32),\n",
              " array([0.6100263], dtype=float32),\n",
              " array([0.7488262], dtype=float32),\n",
              " array([0.84799784], dtype=float32),\n",
              " array([0.9178418], dtype=float32),\n",
              " array([0.9130168], dtype=float32),\n",
              " array([0.8493005], dtype=float32),\n",
              " array([0.7553356], dtype=float32),\n",
              " array([0.6775047], dtype=float32),\n",
              " array([0.62878984], dtype=float32),\n",
              " array([0.6059672], dtype=float32),\n",
              " array([0.6099415], dtype=float32),\n",
              " array([0.6038657], dtype=float32),\n",
              " array([0.63603467], dtype=float32),\n",
              " array([0.737581], dtype=float32),\n",
              " array([0.8323153], dtype=float32),\n",
              " array([0.8963537], dtype=float32),\n",
              " array([0.90190786], dtype=float32),\n",
              " array([0.8492867], dtype=float32),\n",
              " array([0.76427877], dtype=float32),\n",
              " array([0.6884193], dtype=float32),\n",
              " array([0.63991845], dtype=float32),\n",
              " array([0.61639094], dtype=float32),\n",
              " array([0.60746634], dtype=float32)]"
            ]
          },
          "metadata": {},
          "execution_count": 80
        }
      ]
    },
    {
      "cell_type": "code",
      "source": [
        "test.head(12)"
      ],
      "metadata": {
        "colab": {
          "base_uri": "https://localhost:8080/",
          "height": 457
        },
        "id": "GY4Cb3WLRPmN",
        "outputId": "d6b6367e-66cc-4be3-d8da-4abc286c948e"
      },
      "execution_count": 81,
      "outputs": [
        {
          "output_type": "execute_result",
          "data": {
            "text/plain": [
              "            Production  Predictions\n",
              "Date                               \n",
              "1973-03-01         883   866.444123\n",
              "1973-04-01         898   903.912642\n",
              "1973-05-01         957   939.685977\n",
              "1973-06-01         924   929.921267\n",
              "1973-07-01         881   898.697741\n",
              "1973-08-01         837   856.785953\n",
              "1973-09-01         784   823.256236\n",
              "1973-10-01         791   805.709933\n",
              "1973-11-01         760   789.952950\n",
              "1973-12-01         802   805.158798\n",
              "1974-01-01         828   801.351974\n",
              "1974-02-01         778   801.890730"
            ],
            "text/html": [
              "\n",
              "  <div id=\"df-be0be3e1-475f-4ff1-8782-60539cb58e3b\">\n",
              "    <div class=\"colab-df-container\">\n",
              "      <div>\n",
              "<style scoped>\n",
              "    .dataframe tbody tr th:only-of-type {\n",
              "        vertical-align: middle;\n",
              "    }\n",
              "\n",
              "    .dataframe tbody tr th {\n",
              "        vertical-align: top;\n",
              "    }\n",
              "\n",
              "    .dataframe thead th {\n",
              "        text-align: right;\n",
              "    }\n",
              "</style>\n",
              "<table border=\"1\" class=\"dataframe\">\n",
              "  <thead>\n",
              "    <tr style=\"text-align: right;\">\n",
              "      <th></th>\n",
              "      <th>Production</th>\n",
              "      <th>Predictions</th>\n",
              "    </tr>\n",
              "    <tr>\n",
              "      <th>Date</th>\n",
              "      <th></th>\n",
              "      <th></th>\n",
              "    </tr>\n",
              "  </thead>\n",
              "  <tbody>\n",
              "    <tr>\n",
              "      <th>1973-03-01</th>\n",
              "      <td>883</td>\n",
              "      <td>866.444123</td>\n",
              "    </tr>\n",
              "    <tr>\n",
              "      <th>1973-04-01</th>\n",
              "      <td>898</td>\n",
              "      <td>903.912642</td>\n",
              "    </tr>\n",
              "    <tr>\n",
              "      <th>1973-05-01</th>\n",
              "      <td>957</td>\n",
              "      <td>939.685977</td>\n",
              "    </tr>\n",
              "    <tr>\n",
              "      <th>1973-06-01</th>\n",
              "      <td>924</td>\n",
              "      <td>929.921267</td>\n",
              "    </tr>\n",
              "    <tr>\n",
              "      <th>1973-07-01</th>\n",
              "      <td>881</td>\n",
              "      <td>898.697741</td>\n",
              "    </tr>\n",
              "    <tr>\n",
              "      <th>1973-08-01</th>\n",
              "      <td>837</td>\n",
              "      <td>856.785953</td>\n",
              "    </tr>\n",
              "    <tr>\n",
              "      <th>1973-09-01</th>\n",
              "      <td>784</td>\n",
              "      <td>823.256236</td>\n",
              "    </tr>\n",
              "    <tr>\n",
              "      <th>1973-10-01</th>\n",
              "      <td>791</td>\n",
              "      <td>805.709933</td>\n",
              "    </tr>\n",
              "    <tr>\n",
              "      <th>1973-11-01</th>\n",
              "      <td>760</td>\n",
              "      <td>789.952950</td>\n",
              "    </tr>\n",
              "    <tr>\n",
              "      <th>1973-12-01</th>\n",
              "      <td>802</td>\n",
              "      <td>805.158798</td>\n",
              "    </tr>\n",
              "    <tr>\n",
              "      <th>1974-01-01</th>\n",
              "      <td>828</td>\n",
              "      <td>801.351974</td>\n",
              "    </tr>\n",
              "    <tr>\n",
              "      <th>1974-02-01</th>\n",
              "      <td>778</td>\n",
              "      <td>801.890730</td>\n",
              "    </tr>\n",
              "  </tbody>\n",
              "</table>\n",
              "</div>\n",
              "      <button class=\"colab-df-convert\" onclick=\"convertToInteractive('df-be0be3e1-475f-4ff1-8782-60539cb58e3b')\"\n",
              "              title=\"Convert this dataframe to an interactive table.\"\n",
              "              style=\"display:none;\">\n",
              "        \n",
              "  <svg xmlns=\"http://www.w3.org/2000/svg\" height=\"24px\"viewBox=\"0 0 24 24\"\n",
              "       width=\"24px\">\n",
              "    <path d=\"M0 0h24v24H0V0z\" fill=\"none\"/>\n",
              "    <path d=\"M18.56 5.44l.94 2.06.94-2.06 2.06-.94-2.06-.94-.94-2.06-.94 2.06-2.06.94zm-11 1L8.5 8.5l.94-2.06 2.06-.94-2.06-.94L8.5 2.5l-.94 2.06-2.06.94zm10 10l.94 2.06.94-2.06 2.06-.94-2.06-.94-.94-2.06-.94 2.06-2.06.94z\"/><path d=\"M17.41 7.96l-1.37-1.37c-.4-.4-.92-.59-1.43-.59-.52 0-1.04.2-1.43.59L10.3 9.45l-7.72 7.72c-.78.78-.78 2.05 0 2.83L4 21.41c.39.39.9.59 1.41.59.51 0 1.02-.2 1.41-.59l7.78-7.78 2.81-2.81c.8-.78.8-2.07 0-2.86zM5.41 20L4 18.59l7.72-7.72 1.47 1.35L5.41 20z\"/>\n",
              "  </svg>\n",
              "      </button>\n",
              "      \n",
              "  <style>\n",
              "    .colab-df-container {\n",
              "      display:flex;\n",
              "      flex-wrap:wrap;\n",
              "      gap: 12px;\n",
              "    }\n",
              "\n",
              "    .colab-df-convert {\n",
              "      background-color: #E8F0FE;\n",
              "      border: none;\n",
              "      border-radius: 50%;\n",
              "      cursor: pointer;\n",
              "      display: none;\n",
              "      fill: #1967D2;\n",
              "      height: 32px;\n",
              "      padding: 0 0 0 0;\n",
              "      width: 32px;\n",
              "    }\n",
              "\n",
              "    .colab-df-convert:hover {\n",
              "      background-color: #E2EBFA;\n",
              "      box-shadow: 0px 1px 2px rgba(60, 64, 67, 0.3), 0px 1px 3px 1px rgba(60, 64, 67, 0.15);\n",
              "      fill: #174EA6;\n",
              "    }\n",
              "\n",
              "    [theme=dark] .colab-df-convert {\n",
              "      background-color: #3B4455;\n",
              "      fill: #D2E3FC;\n",
              "    }\n",
              "\n",
              "    [theme=dark] .colab-df-convert:hover {\n",
              "      background-color: #434B5C;\n",
              "      box-shadow: 0px 1px 3px 1px rgba(0, 0, 0, 0.15);\n",
              "      filter: drop-shadow(0px 1px 2px rgba(0, 0, 0, 0.3));\n",
              "      fill: #FFFFFF;\n",
              "    }\n",
              "  </style>\n",
              "\n",
              "      <script>\n",
              "        const buttonEl =\n",
              "          document.querySelector('#df-be0be3e1-475f-4ff1-8782-60539cb58e3b button.colab-df-convert');\n",
              "        buttonEl.style.display =\n",
              "          google.colab.kernel.accessAllowed ? 'block' : 'none';\n",
              "\n",
              "        async function convertToInteractive(key) {\n",
              "          const element = document.querySelector('#df-be0be3e1-475f-4ff1-8782-60539cb58e3b');\n",
              "          const dataTable =\n",
              "            await google.colab.kernel.invokeFunction('convertToInteractive',\n",
              "                                                     [key], {});\n",
              "          if (!dataTable) return;\n",
              "\n",
              "          const docLinkHtml = 'Like what you see? Visit the ' +\n",
              "            '<a target=\"_blank\" href=https://colab.research.google.com/notebooks/data_table.ipynb>data table notebook</a>'\n",
              "            + ' to learn more about interactive tables.';\n",
              "          element.innerHTML = '';\n",
              "          dataTable['output_type'] = 'display_data';\n",
              "          await google.colab.output.renderOutput(dataTable, element);\n",
              "          const docLink = document.createElement('div');\n",
              "          docLink.innerHTML = docLinkHtml;\n",
              "          element.appendChild(docLink);\n",
              "        }\n",
              "      </script>\n",
              "    </div>\n",
              "  </div>\n",
              "  "
            ]
          },
          "metadata": {},
          "execution_count": 81
        }
      ]
    },
    {
      "cell_type": "code",
      "source": [
        "true_predictions = scaler.inverse_transform(test_predictions)"
      ],
      "metadata": {
        "id": "V8m0zqGNRVPs"
      },
      "execution_count": 82,
      "outputs": []
    },
    {
      "cell_type": "code",
      "source": [
        "test['Predictions'] = true_predictions"
      ],
      "metadata": {
        "id": "xT9PPEJfRirb"
      },
      "execution_count": null,
      "outputs": []
    },
    {
      "cell_type": "code",
      "source": [
        "test.plot(figsize=(10,5))"
      ],
      "metadata": {
        "colab": {
          "base_uri": "https://localhost:8080/",
          "height": 362
        },
        "id": "ofvSv_-JRs2D",
        "outputId": "9938bd1b-de23-4eed-bb28-f9268eab9b64"
      },
      "execution_count": 85,
      "outputs": [
        {
          "output_type": "execute_result",
          "data": {
            "text/plain": [
              "<matplotlib.axes._subplots.AxesSubplot at 0x7fb9c4c24c10>"
            ]
          },
          "metadata": {},
          "execution_count": 85
        },
        {
          "output_type": "display_data",
          "data": {
            "text/plain": [
              "<Figure size 720x360 with 1 Axes>"
            ],
            "image/png": "[encoded data removed]"
          },
          "metadata": {
            "needs_background": "light"
          }
        }
      ]
    },
    {
      "cell_type": "code",
      "source": [
        "from sklearn.metrics import mean_squared_error\n",
        "from math import sqrt\n",
        "rmse=sqrt(mean_squared_error(test['Production'],test['Predictions']))\n",
        "print(rmse)"
      ],
      "metadata": {
        "colab": {
          "base_uri": "https://localhost:8080/"
        },
        "id": "w_EmmaPQSIn_",
        "outputId": "375e43f6-d999-46fb-a6da-c81eb36ea196"
      },
      "execution_count": 86,
      "outputs": [
        {
          "output_type": "stream",
          "name": "stdout",
          "text": [
            "23.08974348293135\n"
          ]
        }
      ]
    }
  ]
}